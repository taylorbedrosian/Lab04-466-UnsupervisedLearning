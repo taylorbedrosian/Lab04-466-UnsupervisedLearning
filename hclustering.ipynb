{
 "metadata": {
  "language_info": {
   "codemirror_mode": {
    "name": "ipython",
    "version": 3
   },
   "file_extension": ".py",
   "mimetype": "text/x-python",
   "name": "python",
   "nbconvert_exporter": "python",
   "pygments_lexer": "ipython3",
   "version": "3.8.8"
  },
  "orig_nbformat": 2,
  "kernelspec": {
   "name": "python3",
   "display_name": "Python 3",
   "language": "python"
  }
 },
 "nbformat": 4,
 "nbformat_minor": 2,
 "cells": [
  {
   "cell_type": "code",
   "execution_count": 51,
   "metadata": {},
   "outputs": [],
   "source": [
    "import pandas as pd \n",
    "import numpy as np\n",
    "import math"
   ]
  },
  {
   "cell_type": "code",
   "execution_count": 26,
   "metadata": {},
   "outputs": [],
   "source": [
    "def read_file(file):\n",
    "    df = pd.read_csv(file, header=None)\n",
    "    for column in df.columns:\n",
    "        if int(column) == 0:\n",
    "            df.drop(column, axis=1)\n",
    "    shrunk_df = df.drop([0], axis=0)\n",
    "    return shrunk_df"
   ]
  },
  {
   "cell_type": "code",
   "execution_count": 48,
   "metadata": {},
   "outputs": [],
   "source": [
    "df = read_file(\"data/4clusters.csv\")"
   ]
  },
  {
   "source": [
    "### Create Dist Matrix"
   ],
   "cell_type": "markdown",
   "metadata": {}
  },
  {
   "cell_type": "code",
   "execution_count": 60,
   "metadata": {},
   "outputs": [],
   "source": [
    "def euclideanDist(point, pointArray):\n",
    "    return np.sqrt(np.sum((pointArray - point) ** 2, axis=1))"
   ]
  },
  {
   "cell_type": "code",
   "execution_count": 58,
   "metadata": {},
   "outputs": [],
   "source": [
    "def calcDistMatrix(df, distFunctionVect):\n",
    "    # must be fully numeric and normalized df\n",
    "    dfarray = np.array(df)\n",
    "    \n",
    "    distMatrix = []\n",
    "    for i, d in enumerate(dfarray):\n",
    "        # performs Euclidean distance on all elements in data (vectorized)\n",
    "        dists = distFunctionVect(dfarray[i], dfarray)\n",
    "        distMatrix.append(dists)\n",
    "    \n",
    "    return pd.DataFrame(distMatrix)"
   ]
  },
  {
   "cell_type": "code",
   "execution_count": 67,
   "metadata": {},
   "outputs": [],
   "source": [
    "dist_matrix = calcDistMatrix(df, euclideanDist)"
   ]
  },
  {
   "source": [
    "### hclustering"
   ],
   "cell_type": "markdown",
   "metadata": {}
  },
  {
   "cell_type": "code",
   "execution_count": null,
   "metadata": {},
   "outputs": [],
   "source": [
    "class Leaf:\n",
    "    def __init__(self, type, height, data):\n",
    "        self.type = type\n",
    "        self.height = height\n",
    "        self.data = data\n",
    "\n",
    "    def __repr__(self):\n",
    "        return f\"type: {self.type}, height: {self.height}, data: {self.data}\"\n",
    "\n",
    "    def to_dict(self):\n",
    "        json_dict = {}\n",
    "        json_dict[\"type\"] = self.type\n",
    "        json_dict[\"height\"] = self.height\n",
    "        json_dict[\"data\"] = self.data\n",
    "        return json_dict\n",
    "\n",
    "class Node:\n",
    "        def __init__(self, type, height, nodes):\n",
    "        self.type = type\n",
    "        self.height = height\n",
    "        self.nodes = nodes\n",
    "\n",
    "    def __repr__(self):\n",
    "        return f\"type: {self.type}, height: {self.height}, nodes: {self.nodes}\"\n",
    "\n",
    "    def to_dict(self):\n",
    "        json_dict = {}\n",
    "        json_dict[\"type\"] = self.type\n",
    "        json_dict[\"height\"] = self.height\n",
    "        json_dict[\"nodes\"] = self.nodes\n",
    "        return json_dict\n"
   ]
  },
  {
   "cell_type": "code",
   "execution_count": 74,
   "metadata": {},
   "outputs": [],
   "source": [
    "def hcluster(dist_matrix, threshold = np.inf):\n",
    "    dist_matrix.replace(0, np.nan, inplace=True) #so that 0 isn't always reported as the min val\n",
    "\n",
    "    min_locs = dist_matrix.idxmin()\n",
    "    min_row = 0\n",
    "    min_col = 0\n",
    "    min_val = np.inf\n",
    "    for val in min_locs:\n",
    "        if dist_matrix.at[val, min_locs[val]] < min_val:\n",
    "            min_col = val\n",
    "            min_row = min_locs[val]\n",
    "            min_val = dist_matrix.at[val, min_locs[val]]\n",
    "    print(min_row, min_col, min_val)\n",
    "            \n",
    "        \n",
    "    return"
   ]
  },
  {
   "cell_type": "code",
   "execution_count": 73,
   "metadata": {},
   "outputs": [
    {
     "output_type": "stream",
     "name": "stdout",
     "text": [
      "18 20 1.4142135623730951\n"
     ]
    }
   ],
   "source": [
    "hcluster(dist_matrix)"
   ]
  },
  {
   "cell_type": "code",
   "execution_count": null,
   "metadata": {},
   "outputs": [],
   "source": []
  }
 ]
}