{
 "cells": [
  {
   "cell_type": "code",
   "execution_count": 646,
   "metadata": {},
   "outputs": [],
   "source": [
    "import pandas as pd \n",
    "import numpy as np\n",
    "import math"
   ]
  },
  {
   "cell_type": "code",
   "execution_count": 689,
   "metadata": {},
   "outputs": [],
   "source": [
    "def read_file(file):\n",
    "    df = pd.read_csv(file, header=None)\n",
    "    for column in df.columns:\n",
    "        if int(column) == 0:\n",
    "            #df.set_axis(df[column], axis=0)\n",
    "            df.drop(column, axis=1, inplace=True)\n",
    "    shrunk_df = df.drop([0], axis=0)\n",
    "    return shrunk_df"
   ]
  },
  {
   "cell_type": "code",
   "execution_count": 690,
   "metadata": {},
   "outputs": [
    {
     "output_type": "execute_result",
     "data": {
      "text/plain": [
       "       1     2     3    4     5\n",
       "1   90.1   2.6   1.0  6.9  0.35\n",
       "2   88.5   1.4   3.5  6.0  0.24\n",
       "3   88.4   2.2   2.7  6.4  0.18\n",
       "4   90.3   1.7   1.4  6.2  0.40\n",
       "5   90.4   0.6   4.5  4.4  0.10\n",
       "6   87.7   3.5   3.4  4.8  0.71\n",
       "7   86.9   4.8   1.7  5.7  0.90\n",
       "8   82.1   5.9   7.9  4.7  0.78\n",
       "9   81.9   7.4   7.2  2.7  0.85\n",
       "10  81.6  10.1   6.3  4.4  0.75\n",
       "11  81.6   6.6   5.9  4.9  0.93\n",
       "12  86.5   3.9   3.2  5.6  0.80\n",
       "13  90.0   2.0   1.8  5.5  0.47\n",
       "14  82.8   7.1   5.1  3.7  1.10\n",
       "15  86.2   3.0   4.8  5.3  0.70\n",
       "16  82.0   5.6   6.4  4.7  0.91\n",
       "17  76.3   9.3   9.5  3.0  1.20\n",
       "18  70.7   3.6  17.6  5.6  0.63\n",
       "19  71.3  12.3  13.1  1.9  2.30\n",
       "20  72.5   9.2  12.6  3.3  1.40\n",
       "21  65.9  10.4  19.7  2.6  1.40\n",
       "22  64.8  10.7  20.3  2.5  1.40\n",
       "23  64.8  11.1  21.2  1.6  0.85\n",
       "24  46.4   9.7  42.0  0.0  0.85\n",
       "25  44.9  10.6  34.9  0.9  0.53"
      ],
      "text/html": "<div>\n<style scoped>\n    .dataframe tbody tr th:only-of-type {\n        vertical-align: middle;\n    }\n\n    .dataframe tbody tr th {\n        vertical-align: top;\n    }\n\n    .dataframe thead th {\n        text-align: right;\n    }\n</style>\n<table border=\"1\" class=\"dataframe\">\n  <thead>\n    <tr style=\"text-align: right;\">\n      <th></th>\n      <th>1</th>\n      <th>2</th>\n      <th>3</th>\n      <th>4</th>\n      <th>5</th>\n    </tr>\n  </thead>\n  <tbody>\n    <tr>\n      <th>1</th>\n      <td>90.1</td>\n      <td>2.6</td>\n      <td>1.0</td>\n      <td>6.9</td>\n      <td>0.35</td>\n    </tr>\n    <tr>\n      <th>2</th>\n      <td>88.5</td>\n      <td>1.4</td>\n      <td>3.5</td>\n      <td>6.0</td>\n      <td>0.24</td>\n    </tr>\n    <tr>\n      <th>3</th>\n      <td>88.4</td>\n      <td>2.2</td>\n      <td>2.7</td>\n      <td>6.4</td>\n      <td>0.18</td>\n    </tr>\n    <tr>\n      <th>4</th>\n      <td>90.3</td>\n      <td>1.7</td>\n      <td>1.4</td>\n      <td>6.2</td>\n      <td>0.40</td>\n    </tr>\n    <tr>\n      <th>5</th>\n      <td>90.4</td>\n      <td>0.6</td>\n      <td>4.5</td>\n      <td>4.4</td>\n      <td>0.10</td>\n    </tr>\n    <tr>\n      <th>6</th>\n      <td>87.7</td>\n      <td>3.5</td>\n      <td>3.4</td>\n      <td>4.8</td>\n      <td>0.71</td>\n    </tr>\n    <tr>\n      <th>7</th>\n      <td>86.9</td>\n      <td>4.8</td>\n      <td>1.7</td>\n      <td>5.7</td>\n      <td>0.90</td>\n    </tr>\n    <tr>\n      <th>8</th>\n      <td>82.1</td>\n      <td>5.9</td>\n      <td>7.9</td>\n      <td>4.7</td>\n      <td>0.78</td>\n    </tr>\n    <tr>\n      <th>9</th>\n      <td>81.9</td>\n      <td>7.4</td>\n      <td>7.2</td>\n      <td>2.7</td>\n      <td>0.85</td>\n    </tr>\n    <tr>\n      <th>10</th>\n      <td>81.6</td>\n      <td>10.1</td>\n      <td>6.3</td>\n      <td>4.4</td>\n      <td>0.75</td>\n    </tr>\n    <tr>\n      <th>11</th>\n      <td>81.6</td>\n      <td>6.6</td>\n      <td>5.9</td>\n      <td>4.9</td>\n      <td>0.93</td>\n    </tr>\n    <tr>\n      <th>12</th>\n      <td>86.5</td>\n      <td>3.9</td>\n      <td>3.2</td>\n      <td>5.6</td>\n      <td>0.80</td>\n    </tr>\n    <tr>\n      <th>13</th>\n      <td>90.0</td>\n      <td>2.0</td>\n      <td>1.8</td>\n      <td>5.5</td>\n      <td>0.47</td>\n    </tr>\n    <tr>\n      <th>14</th>\n      <td>82.8</td>\n      <td>7.1</td>\n      <td>5.1</td>\n      <td>3.7</td>\n      <td>1.10</td>\n    </tr>\n    <tr>\n      <th>15</th>\n      <td>86.2</td>\n      <td>3.0</td>\n      <td>4.8</td>\n      <td>5.3</td>\n      <td>0.70</td>\n    </tr>\n    <tr>\n      <th>16</th>\n      <td>82.0</td>\n      <td>5.6</td>\n      <td>6.4</td>\n      <td>4.7</td>\n      <td>0.91</td>\n    </tr>\n    <tr>\n      <th>17</th>\n      <td>76.3</td>\n      <td>9.3</td>\n      <td>9.5</td>\n      <td>3.0</td>\n      <td>1.20</td>\n    </tr>\n    <tr>\n      <th>18</th>\n      <td>70.7</td>\n      <td>3.6</td>\n      <td>17.6</td>\n      <td>5.6</td>\n      <td>0.63</td>\n    </tr>\n    <tr>\n      <th>19</th>\n      <td>71.3</td>\n      <td>12.3</td>\n      <td>13.1</td>\n      <td>1.9</td>\n      <td>2.30</td>\n    </tr>\n    <tr>\n      <th>20</th>\n      <td>72.5</td>\n      <td>9.2</td>\n      <td>12.6</td>\n      <td>3.3</td>\n      <td>1.40</td>\n    </tr>\n    <tr>\n      <th>21</th>\n      <td>65.9</td>\n      <td>10.4</td>\n      <td>19.7</td>\n      <td>2.6</td>\n      <td>1.40</td>\n    </tr>\n    <tr>\n      <th>22</th>\n      <td>64.8</td>\n      <td>10.7</td>\n      <td>20.3</td>\n      <td>2.5</td>\n      <td>1.40</td>\n    </tr>\n    <tr>\n      <th>23</th>\n      <td>64.8</td>\n      <td>11.1</td>\n      <td>21.2</td>\n      <td>1.6</td>\n      <td>0.85</td>\n    </tr>\n    <tr>\n      <th>24</th>\n      <td>46.4</td>\n      <td>9.7</td>\n      <td>42.0</td>\n      <td>0.0</td>\n      <td>0.85</td>\n    </tr>\n    <tr>\n      <th>25</th>\n      <td>44.9</td>\n      <td>10.6</td>\n      <td>34.9</td>\n      <td>0.9</td>\n      <td>0.53</td>\n    </tr>\n  </tbody>\n</table>\n</div>"
     },
     "metadata": {},
     "execution_count": 690
    }
   ],
   "source": [
    "df = read_file(\"data/mammal_milk.csv\")\n",
    "df"
   ]
  },
  {
   "cell_type": "markdown",
   "metadata": {},
   "source": [
    "### Create Dist Matrix"
   ]
  },
  {
   "cell_type": "code",
   "execution_count": 691,
   "metadata": {},
   "outputs": [],
   "source": [
    "def euclideanDist(point, pointArray):\n",
    "    return np.sqrt(np.sum((pointArray - point) ** 2, axis=1))"
   ]
  },
  {
   "cell_type": "code",
   "execution_count": 692,
   "metadata": {},
   "outputs": [],
   "source": [
    "def calcDistMatrix(df, distFunctionVect):\n",
    "    # must be fully numeric and normalized df\n",
    "    dfarray = np.array(df)\n",
    "    \n",
    "    distMatrix = []\n",
    "    for i, d in enumerate(dfarray):\n",
    "        # performs Euclidean distance on all elements in data (vectorized)\n",
    "        dists = distFunctionVect(dfarray[i], dfarray)\n",
    "        distMatrix.append(dists)\n",
    "    \n",
    "    return pd.DataFrame(distMatrix)"
   ]
  },
  {
   "cell_type": "code",
   "execution_count": 693,
   "metadata": {},
   "outputs": [
    {
     "output_type": "execute_result",
     "data": {
      "text/plain": [
       "           0          1          2          3          4          5   \\\n",
       "0    0.000000   3.327477   2.493772   1.225765   4.759464   4.107262   \n",
       "1    3.327477   0.000000   1.205653   2.793850   2.798142   2.592470   \n",
       "2    2.493772   1.205653   0.000000   2.374532   3.715696   2.347531   \n",
       "3    1.225765   2.793850   2.374532   0.000000   3.762978   4.007006   \n",
       "4    4.759464   2.798142   3.715696   3.762978   0.000000   4.176374   \n",
       "5    4.107262   2.592470   2.347531   4.007006   4.176374   0.000000   \n",
       "6    4.160829   4.229137   3.319398   4.664762   6.329297   2.462945   \n",
       "7   11.292692   9.085791   9.147131  11.380879  10.444731   7.575282   \n",
       "8   12.108262  10.223116  10.182284  12.212391  11.368047   8.229192   \n",
       "9   12.767145  11.574113  11.222072  13.176589  13.090168   9.452069   \n",
       "10  10.797981   9.060690   8.868624  11.041780  10.786051   7.288923   \n",
       "11   4.624122   3.288404   2.788261   4.800000   5.451605   1.512647   \n",
       "12   1.727542   2.408921   2.074632   0.913729   3.279771   3.263066   \n",
       "13  10.057460   8.577272   8.322644  10.287857  10.092572   6.420444   \n",
       "14   5.700219   3.200250   3.372002   5.564171   4.965884   2.170276   \n",
       "15  10.436647   8.392789   8.344633  10.564568   9.995804   6.778643   \n",
       "16  17.986453  16.036571  15.989384  18.172782  17.397414  14.293009   \n",
       "17  25.586879  22.821089  23.197036  25.507311  23.883486  22.165207   \n",
       "18  24.954809  22.975282  22.963545  25.146570  24.222923  21.246837   \n",
       "19  22.404073  20.206078  20.271122  22.537524  21.514646  18.732221   \n",
       "20  31.871029  29.446657  29.638124  31.935873  30.532933  28.175452   \n",
       "21  33.145927  30.724837  30.913887  33.213702  31.816819  29.455494   \n",
       "22  33.892772  31.445224  31.652945  33.941310  32.448459  30.154098   \n",
       "23  60.736809  57.964835  58.362222  60.648269  58.693973  57.071443   \n",
       "24  57.378414  54.750837  55.045640  57.364858  55.739079  53.756324   \n",
       "\n",
       "           6          7          8          9   ...         15         16  \\\n",
       "0    4.160829  11.292692  12.108262  12.767145  ...  10.436647  17.986453   \n",
       "1    4.229137   9.085791  10.223116  11.574113  ...   8.392789  16.036571   \n",
       "2    3.319398   9.147131  10.182284  11.222072  ...   8.344633  15.989384   \n",
       "3    4.664762  11.380879  12.212391  13.176589  ...  10.564568  18.172782   \n",
       "4    6.329297  10.444731  11.368047  13.090168  ...   9.995804  17.397414   \n",
       "5    2.462945   7.575282   8.229192   9.452069  ...   6.778643  14.293009   \n",
       "6    0.000000   7.981504   8.426891   8.891147  ...   6.909421  14.171450   \n",
       "7    7.981504   0.000000   2.604784   4.532207  ...   1.538473   7.129264   \n",
       "8    8.426891   2.604784   0.000000   3.330165  ...   2.809555   6.361800   \n",
       "9    8.891147   4.532207   3.330165   0.000000  ...   4.531622   6.413462   \n",
       "10   7.043501   2.191461   2.695626   3.562639  ...   1.204326   7.212690   \n",
       "11   1.800000   6.801500   7.604111   8.573360  ...   5.848256  13.409325   \n",
       "12   4.205342  10.750167  11.485399  12.558201  ...   9.947542  17.522925   \n",
       "13   6.140033   3.297332   2.524381   3.534473  ...   2.369831   8.182298   \n",
       "14   3.679674   5.932655   7.098767   8.639010  ...   5.231071  12.858071   \n",
       "15   6.909421   1.538473   2.809555   4.531622  ...   0.000000   7.665775   \n",
       "16  14.171450   7.129264   6.361800   6.413462  ...   7.665775   0.000000   \n",
       "17  22.732640  15.171437  16.015567  17.035387  ...  16.062951  11.685243   \n",
       "18  21.118002  13.956733  13.187968  12.877209  ...  14.630178   7.027090   \n",
       "19  18.749400  11.290899  11.019188  11.177768  ...  11.993753   4.918333   \n",
       "20  28.394013  20.657309  20.531987  20.731679  ...  21.535786  14.615403   \n",
       "21  29.659231  21.938879  21.800287  21.968898  ...  22.806580  15.847397   \n",
       "22  30.416484  22.645858  22.434572  22.651711  ...  23.552996  16.566910   \n",
       "23  57.626752  49.737661  49.838439  50.329514  ...  50.730894  44.266720   \n",
       "24  54.065302  46.361973  46.366717  46.662602  ...  47.204284  40.468122   \n",
       "\n",
       "           17         18         19         20         21         22  \\\n",
       "0   25.586879  24.954809  22.404073  31.871029  33.145927  33.892772   \n",
       "1   22.821089  22.975282  20.206078  29.446657  30.724837  31.445224   \n",
       "2   23.197036  22.963545  20.271122  29.638124  30.913887  31.652945   \n",
       "3   25.507311  25.146570  22.537524  31.935873  33.213702  33.941310   \n",
       "4   23.883486  24.222923  21.514646  30.532933  31.816819  32.448459   \n",
       "5   22.165207  21.246837  18.732221  28.175452  29.455494  30.154098   \n",
       "6   22.732640  21.118002  18.749400  28.394013  29.659231  30.416484   \n",
       "7   15.171437  13.956733  11.290899  20.657309  21.938879  22.645858   \n",
       "8   16.015567  13.187968  11.019188  20.531987  21.800287  22.434572   \n",
       "9   17.035387  12.877209  11.177768  20.731679  21.968898  22.651711   \n",
       "10  16.287418  14.187914  11.714986  21.374773  22.636053  23.398214   \n",
       "11  21.380339  20.385044  17.835358  27.353610  28.627085  29.372308   \n",
       "12  24.994511  24.490384  21.918825  31.321796  32.601302  33.310125   \n",
       "13  17.853316  15.098675  12.922848  22.604424  23.864828  24.569951   \n",
       "14  20.113302  19.786612  17.072200  26.393939  27.673634  28.394410   \n",
       "15  16.062951  14.630178  11.993753  21.535786  22.806580  23.552996   \n",
       "16  11.685243   7.027090   4.918333  14.615403  15.847397  16.566910   \n",
       "17   0.000000  10.619741   8.092151   9.125947  10.134737  10.957573   \n",
       "18  10.619741   0.000000   3.751000   8.810789   9.890399  10.559001   \n",
       "19   8.092151   3.751000   0.000000   9.792855  11.021343  11.834378   \n",
       "20   9.125947   8.810789   9.792855   0.000000   1.292285   2.291833   \n",
       "21  10.134737   9.890399  11.021343   1.292285   0.000000   1.443087   \n",
       "22  10.957573  10.559001  11.834378   2.291833   1.443087   0.000000   \n",
       "23  35.418475  38.310475  39.458998  29.750504  28.583256  27.851750   \n",
       "24  32.187420  34.339815  35.602344  25.994748  24.748675  24.177312   \n",
       "\n",
       "           23         24  \n",
       "0   60.736809  57.378414  \n",
       "1   57.964835  54.750837  \n",
       "2   58.362222  55.045640  \n",
       "3   60.648269  57.364858  \n",
       "4   58.693973  55.739079  \n",
       "5   57.071443  53.756324  \n",
       "6   57.626752  54.065302  \n",
       "7   49.737661  46.361973  \n",
       "8   49.838439  46.366717  \n",
       "9   50.329514  46.662602  \n",
       "10  50.753093  47.117407  \n",
       "11  56.377766  52.938671  \n",
       "12  60.055678  56.786826  \n",
       "13  52.029631  48.423805  \n",
       "14  55.144197  51.854112  \n",
       "15  50.730894  47.204284  \n",
       "16  44.266720  40.468122  \n",
       "17  35.418475  32.187420  \n",
       "18  38.310475  34.339815  \n",
       "19  39.458998  35.602344  \n",
       "20  29.750504  25.994748  \n",
       "21  28.583256  24.748675  \n",
       "22  27.851750  24.177312  \n",
       "23   0.000000   7.374442  \n",
       "24   7.374442   0.000000  \n",
       "\n",
       "[25 rows x 25 columns]"
      ],
      "text/html": "<div>\n<style scoped>\n    .dataframe tbody tr th:only-of-type {\n        vertical-align: middle;\n    }\n\n    .dataframe tbody tr th {\n        vertical-align: top;\n    }\n\n    .dataframe thead th {\n        text-align: right;\n    }\n</style>\n<table border=\"1\" class=\"dataframe\">\n  <thead>\n    <tr style=\"text-align: right;\">\n      <th></th>\n      <th>0</th>\n      <th>1</th>\n      <th>2</th>\n      <th>3</th>\n      <th>4</th>\n      <th>5</th>\n      <th>6</th>\n      <th>7</th>\n      <th>8</th>\n      <th>9</th>\n      <th>...</th>\n      <th>15</th>\n      <th>16</th>\n      <th>17</th>\n      <th>18</th>\n      <th>19</th>\n      <th>20</th>\n      <th>21</th>\n      <th>22</th>\n      <th>23</th>\n      <th>24</th>\n    </tr>\n  </thead>\n  <tbody>\n    <tr>\n      <th>0</th>\n      <td>0.000000</td>\n      <td>3.327477</td>\n      <td>2.493772</td>\n      <td>1.225765</td>\n      <td>4.759464</td>\n      <td>4.107262</td>\n      <td>4.160829</td>\n      <td>11.292692</td>\n      <td>12.108262</td>\n      <td>12.767145</td>\n      <td>...</td>\n      <td>10.436647</td>\n      <td>17.986453</td>\n      <td>25.586879</td>\n      <td>24.954809</td>\n      <td>22.404073</td>\n      <td>31.871029</td>\n      <td>33.145927</td>\n      <td>33.892772</td>\n      <td>60.736809</td>\n      <td>57.378414</td>\n    </tr>\n    <tr>\n      <th>1</th>\n      <td>3.327477</td>\n      <td>0.000000</td>\n      <td>1.205653</td>\n      <td>2.793850</td>\n      <td>2.798142</td>\n      <td>2.592470</td>\n      <td>4.229137</td>\n      <td>9.085791</td>\n      <td>10.223116</td>\n      <td>11.574113</td>\n      <td>...</td>\n      <td>8.392789</td>\n      <td>16.036571</td>\n      <td>22.821089</td>\n      <td>22.975282</td>\n      <td>20.206078</td>\n      <td>29.446657</td>\n      <td>30.724837</td>\n      <td>31.445224</td>\n      <td>57.964835</td>\n      <td>54.750837</td>\n    </tr>\n    <tr>\n      <th>2</th>\n      <td>2.493772</td>\n      <td>1.205653</td>\n      <td>0.000000</td>\n      <td>2.374532</td>\n      <td>3.715696</td>\n      <td>2.347531</td>\n      <td>3.319398</td>\n      <td>9.147131</td>\n      <td>10.182284</td>\n      <td>11.222072</td>\n      <td>...</td>\n      <td>8.344633</td>\n      <td>15.989384</td>\n      <td>23.197036</td>\n      <td>22.963545</td>\n      <td>20.271122</td>\n      <td>29.638124</td>\n      <td>30.913887</td>\n      <td>31.652945</td>\n      <td>58.362222</td>\n      <td>55.045640</td>\n    </tr>\n    <tr>\n      <th>3</th>\n      <td>1.225765</td>\n      <td>2.793850</td>\n      <td>2.374532</td>\n      <td>0.000000</td>\n      <td>3.762978</td>\n      <td>4.007006</td>\n      <td>4.664762</td>\n      <td>11.380879</td>\n      <td>12.212391</td>\n      <td>13.176589</td>\n      <td>...</td>\n      <td>10.564568</td>\n      <td>18.172782</td>\n      <td>25.507311</td>\n      <td>25.146570</td>\n      <td>22.537524</td>\n      <td>31.935873</td>\n      <td>33.213702</td>\n      <td>33.941310</td>\n      <td>60.648269</td>\n      <td>57.364858</td>\n    </tr>\n    <tr>\n      <th>4</th>\n      <td>4.759464</td>\n      <td>2.798142</td>\n      <td>3.715696</td>\n      <td>3.762978</td>\n      <td>0.000000</td>\n      <td>4.176374</td>\n      <td>6.329297</td>\n      <td>10.444731</td>\n      <td>11.368047</td>\n      <td>13.090168</td>\n      <td>...</td>\n      <td>9.995804</td>\n      <td>17.397414</td>\n      <td>23.883486</td>\n      <td>24.222923</td>\n      <td>21.514646</td>\n      <td>30.532933</td>\n      <td>31.816819</td>\n      <td>32.448459</td>\n      <td>58.693973</td>\n      <td>55.739079</td>\n    </tr>\n    <tr>\n      <th>5</th>\n      <td>4.107262</td>\n      <td>2.592470</td>\n      <td>2.347531</td>\n      <td>4.007006</td>\n      <td>4.176374</td>\n      <td>0.000000</td>\n      <td>2.462945</td>\n      <td>7.575282</td>\n      <td>8.229192</td>\n      <td>9.452069</td>\n      <td>...</td>\n      <td>6.778643</td>\n      <td>14.293009</td>\n      <td>22.165207</td>\n      <td>21.246837</td>\n      <td>18.732221</td>\n      <td>28.175452</td>\n      <td>29.455494</td>\n      <td>30.154098</td>\n      <td>57.071443</td>\n      <td>53.756324</td>\n    </tr>\n    <tr>\n      <th>6</th>\n      <td>4.160829</td>\n      <td>4.229137</td>\n      <td>3.319398</td>\n      <td>4.664762</td>\n      <td>6.329297</td>\n      <td>2.462945</td>\n      <td>0.000000</td>\n      <td>7.981504</td>\n      <td>8.426891</td>\n      <td>8.891147</td>\n      <td>...</td>\n      <td>6.909421</td>\n      <td>14.171450</td>\n      <td>22.732640</td>\n      <td>21.118002</td>\n      <td>18.749400</td>\n      <td>28.394013</td>\n      <td>29.659231</td>\n      <td>30.416484</td>\n      <td>57.626752</td>\n      <td>54.065302</td>\n    </tr>\n    <tr>\n      <th>7</th>\n      <td>11.292692</td>\n      <td>9.085791</td>\n      <td>9.147131</td>\n      <td>11.380879</td>\n      <td>10.444731</td>\n      <td>7.575282</td>\n      <td>7.981504</td>\n      <td>0.000000</td>\n      <td>2.604784</td>\n      <td>4.532207</td>\n      <td>...</td>\n      <td>1.538473</td>\n      <td>7.129264</td>\n      <td>15.171437</td>\n      <td>13.956733</td>\n      <td>11.290899</td>\n      <td>20.657309</td>\n      <td>21.938879</td>\n      <td>22.645858</td>\n      <td>49.737661</td>\n      <td>46.361973</td>\n    </tr>\n    <tr>\n      <th>8</th>\n      <td>12.108262</td>\n      <td>10.223116</td>\n      <td>10.182284</td>\n      <td>12.212391</td>\n      <td>11.368047</td>\n      <td>8.229192</td>\n      <td>8.426891</td>\n      <td>2.604784</td>\n      <td>0.000000</td>\n      <td>3.330165</td>\n      <td>...</td>\n      <td>2.809555</td>\n      <td>6.361800</td>\n      <td>16.015567</td>\n      <td>13.187968</td>\n      <td>11.019188</td>\n      <td>20.531987</td>\n      <td>21.800287</td>\n      <td>22.434572</td>\n      <td>49.838439</td>\n      <td>46.366717</td>\n    </tr>\n    <tr>\n      <th>9</th>\n      <td>12.767145</td>\n      <td>11.574113</td>\n      <td>11.222072</td>\n      <td>13.176589</td>\n      <td>13.090168</td>\n      <td>9.452069</td>\n      <td>8.891147</td>\n      <td>4.532207</td>\n      <td>3.330165</td>\n      <td>0.000000</td>\n      <td>...</td>\n      <td>4.531622</td>\n      <td>6.413462</td>\n      <td>17.035387</td>\n      <td>12.877209</td>\n      <td>11.177768</td>\n      <td>20.731679</td>\n      <td>21.968898</td>\n      <td>22.651711</td>\n      <td>50.329514</td>\n      <td>46.662602</td>\n    </tr>\n    <tr>\n      <th>10</th>\n      <td>10.797981</td>\n      <td>9.060690</td>\n      <td>8.868624</td>\n      <td>11.041780</td>\n      <td>10.786051</td>\n      <td>7.288923</td>\n      <td>7.043501</td>\n      <td>2.191461</td>\n      <td>2.695626</td>\n      <td>3.562639</td>\n      <td>...</td>\n      <td>1.204326</td>\n      <td>7.212690</td>\n      <td>16.287418</td>\n      <td>14.187914</td>\n      <td>11.714986</td>\n      <td>21.374773</td>\n      <td>22.636053</td>\n      <td>23.398214</td>\n      <td>50.753093</td>\n      <td>47.117407</td>\n    </tr>\n    <tr>\n      <th>11</th>\n      <td>4.624122</td>\n      <td>3.288404</td>\n      <td>2.788261</td>\n      <td>4.800000</td>\n      <td>5.451605</td>\n      <td>1.512647</td>\n      <td>1.800000</td>\n      <td>6.801500</td>\n      <td>7.604111</td>\n      <td>8.573360</td>\n      <td>...</td>\n      <td>5.848256</td>\n      <td>13.409325</td>\n      <td>21.380339</td>\n      <td>20.385044</td>\n      <td>17.835358</td>\n      <td>27.353610</td>\n      <td>28.627085</td>\n      <td>29.372308</td>\n      <td>56.377766</td>\n      <td>52.938671</td>\n    </tr>\n    <tr>\n      <th>12</th>\n      <td>1.727542</td>\n      <td>2.408921</td>\n      <td>2.074632</td>\n      <td>0.913729</td>\n      <td>3.279771</td>\n      <td>3.263066</td>\n      <td>4.205342</td>\n      <td>10.750167</td>\n      <td>11.485399</td>\n      <td>12.558201</td>\n      <td>...</td>\n      <td>9.947542</td>\n      <td>17.522925</td>\n      <td>24.994511</td>\n      <td>24.490384</td>\n      <td>21.918825</td>\n      <td>31.321796</td>\n      <td>32.601302</td>\n      <td>33.310125</td>\n      <td>60.055678</td>\n      <td>56.786826</td>\n    </tr>\n    <tr>\n      <th>13</th>\n      <td>10.057460</td>\n      <td>8.577272</td>\n      <td>8.322644</td>\n      <td>10.287857</td>\n      <td>10.092572</td>\n      <td>6.420444</td>\n      <td>6.140033</td>\n      <td>3.297332</td>\n      <td>2.524381</td>\n      <td>3.534473</td>\n      <td>...</td>\n      <td>2.369831</td>\n      <td>8.182298</td>\n      <td>17.853316</td>\n      <td>15.098675</td>\n      <td>12.922848</td>\n      <td>22.604424</td>\n      <td>23.864828</td>\n      <td>24.569951</td>\n      <td>52.029631</td>\n      <td>48.423805</td>\n    </tr>\n    <tr>\n      <th>14</th>\n      <td>5.700219</td>\n      <td>3.200250</td>\n      <td>3.372002</td>\n      <td>5.564171</td>\n      <td>4.965884</td>\n      <td>2.170276</td>\n      <td>3.679674</td>\n      <td>5.932655</td>\n      <td>7.098767</td>\n      <td>8.639010</td>\n      <td>...</td>\n      <td>5.231071</td>\n      <td>12.858071</td>\n      <td>20.113302</td>\n      <td>19.786612</td>\n      <td>17.072200</td>\n      <td>26.393939</td>\n      <td>27.673634</td>\n      <td>28.394410</td>\n      <td>55.144197</td>\n      <td>51.854112</td>\n    </tr>\n    <tr>\n      <th>15</th>\n      <td>10.436647</td>\n      <td>8.392789</td>\n      <td>8.344633</td>\n      <td>10.564568</td>\n      <td>9.995804</td>\n      <td>6.778643</td>\n      <td>6.909421</td>\n      <td>1.538473</td>\n      <td>2.809555</td>\n      <td>4.531622</td>\n      <td>...</td>\n      <td>0.000000</td>\n      <td>7.665775</td>\n      <td>16.062951</td>\n      <td>14.630178</td>\n      <td>11.993753</td>\n      <td>21.535786</td>\n      <td>22.806580</td>\n      <td>23.552996</td>\n      <td>50.730894</td>\n      <td>47.204284</td>\n    </tr>\n    <tr>\n      <th>16</th>\n      <td>17.986453</td>\n      <td>16.036571</td>\n      <td>15.989384</td>\n      <td>18.172782</td>\n      <td>17.397414</td>\n      <td>14.293009</td>\n      <td>14.171450</td>\n      <td>7.129264</td>\n      <td>6.361800</td>\n      <td>6.413462</td>\n      <td>...</td>\n      <td>7.665775</td>\n      <td>0.000000</td>\n      <td>11.685243</td>\n      <td>7.027090</td>\n      <td>4.918333</td>\n      <td>14.615403</td>\n      <td>15.847397</td>\n      <td>16.566910</td>\n      <td>44.266720</td>\n      <td>40.468122</td>\n    </tr>\n    <tr>\n      <th>17</th>\n      <td>25.586879</td>\n      <td>22.821089</td>\n      <td>23.197036</td>\n      <td>25.507311</td>\n      <td>23.883486</td>\n      <td>22.165207</td>\n      <td>22.732640</td>\n      <td>15.171437</td>\n      <td>16.015567</td>\n      <td>17.035387</td>\n      <td>...</td>\n      <td>16.062951</td>\n      <td>11.685243</td>\n      <td>0.000000</td>\n      <td>10.619741</td>\n      <td>8.092151</td>\n      <td>9.125947</td>\n      <td>10.134737</td>\n      <td>10.957573</td>\n      <td>35.418475</td>\n      <td>32.187420</td>\n    </tr>\n    <tr>\n      <th>18</th>\n      <td>24.954809</td>\n      <td>22.975282</td>\n      <td>22.963545</td>\n      <td>25.146570</td>\n      <td>24.222923</td>\n      <td>21.246837</td>\n      <td>21.118002</td>\n      <td>13.956733</td>\n      <td>13.187968</td>\n      <td>12.877209</td>\n      <td>...</td>\n      <td>14.630178</td>\n      <td>7.027090</td>\n      <td>10.619741</td>\n      <td>0.000000</td>\n      <td>3.751000</td>\n      <td>8.810789</td>\n      <td>9.890399</td>\n      <td>10.559001</td>\n      <td>38.310475</td>\n      <td>34.339815</td>\n    </tr>\n    <tr>\n      <th>19</th>\n      <td>22.404073</td>\n      <td>20.206078</td>\n      <td>20.271122</td>\n      <td>22.537524</td>\n      <td>21.514646</td>\n      <td>18.732221</td>\n      <td>18.749400</td>\n      <td>11.290899</td>\n      <td>11.019188</td>\n      <td>11.177768</td>\n      <td>...</td>\n      <td>11.993753</td>\n      <td>4.918333</td>\n      <td>8.092151</td>\n      <td>3.751000</td>\n      <td>0.000000</td>\n      <td>9.792855</td>\n      <td>11.021343</td>\n      <td>11.834378</td>\n      <td>39.458998</td>\n      <td>35.602344</td>\n    </tr>\n    <tr>\n      <th>20</th>\n      <td>31.871029</td>\n      <td>29.446657</td>\n      <td>29.638124</td>\n      <td>31.935873</td>\n      <td>30.532933</td>\n      <td>28.175452</td>\n      <td>28.394013</td>\n      <td>20.657309</td>\n      <td>20.531987</td>\n      <td>20.731679</td>\n      <td>...</td>\n      <td>21.535786</td>\n      <td>14.615403</td>\n      <td>9.125947</td>\n      <td>8.810789</td>\n      <td>9.792855</td>\n      <td>0.000000</td>\n      <td>1.292285</td>\n      <td>2.291833</td>\n      <td>29.750504</td>\n      <td>25.994748</td>\n    </tr>\n    <tr>\n      <th>21</th>\n      <td>33.145927</td>\n      <td>30.724837</td>\n      <td>30.913887</td>\n      <td>33.213702</td>\n      <td>31.816819</td>\n      <td>29.455494</td>\n      <td>29.659231</td>\n      <td>21.938879</td>\n      <td>21.800287</td>\n      <td>21.968898</td>\n      <td>...</td>\n      <td>22.806580</td>\n      <td>15.847397</td>\n      <td>10.134737</td>\n      <td>9.890399</td>\n      <td>11.021343</td>\n      <td>1.292285</td>\n      <td>0.000000</td>\n      <td>1.443087</td>\n      <td>28.583256</td>\n      <td>24.748675</td>\n    </tr>\n    <tr>\n      <th>22</th>\n      <td>33.892772</td>\n      <td>31.445224</td>\n      <td>31.652945</td>\n      <td>33.941310</td>\n      <td>32.448459</td>\n      <td>30.154098</td>\n      <td>30.416484</td>\n      <td>22.645858</td>\n      <td>22.434572</td>\n      <td>22.651711</td>\n      <td>...</td>\n      <td>23.552996</td>\n      <td>16.566910</td>\n      <td>10.957573</td>\n      <td>10.559001</td>\n      <td>11.834378</td>\n      <td>2.291833</td>\n      <td>1.443087</td>\n      <td>0.000000</td>\n      <td>27.851750</td>\n      <td>24.177312</td>\n    </tr>\n    <tr>\n      <th>23</th>\n      <td>60.736809</td>\n      <td>57.964835</td>\n      <td>58.362222</td>\n      <td>60.648269</td>\n      <td>58.693973</td>\n      <td>57.071443</td>\n      <td>57.626752</td>\n      <td>49.737661</td>\n      <td>49.838439</td>\n      <td>50.329514</td>\n      <td>...</td>\n      <td>50.730894</td>\n      <td>44.266720</td>\n      <td>35.418475</td>\n      <td>38.310475</td>\n      <td>39.458998</td>\n      <td>29.750504</td>\n      <td>28.583256</td>\n      <td>27.851750</td>\n      <td>0.000000</td>\n      <td>7.374442</td>\n    </tr>\n    <tr>\n      <th>24</th>\n      <td>57.378414</td>\n      <td>54.750837</td>\n      <td>55.045640</td>\n      <td>57.364858</td>\n      <td>55.739079</td>\n      <td>53.756324</td>\n      <td>54.065302</td>\n      <td>46.361973</td>\n      <td>46.366717</td>\n      <td>46.662602</td>\n      <td>...</td>\n      <td>47.204284</td>\n      <td>40.468122</td>\n      <td>32.187420</td>\n      <td>34.339815</td>\n      <td>35.602344</td>\n      <td>25.994748</td>\n      <td>24.748675</td>\n      <td>24.177312</td>\n      <td>7.374442</td>\n      <td>0.000000</td>\n    </tr>\n  </tbody>\n</table>\n<p>25 rows × 25 columns</p>\n</div>"
     },
     "metadata": {},
     "execution_count": 693
    }
   ],
   "source": [
    "dist_matrix = calcDistMatrix(df, euclideanDist)\n",
    "dist_matrix"
   ]
  },
  {
   "cell_type": "code",
   "execution_count": 694,
   "metadata": {},
   "outputs": [],
   "source": [
    "class Leaf:\n",
    "    def __init__(self, data):\n",
    "        self.n_type = 'leaf'\n",
    "        self.height = 0\n",
    "        self.data = data\n",
    "        self.str_rep = str(data)\n",
    "\n",
    "    def __repr__(self):\n",
    "        return f\"type: {self.n_type}, height: {self.height}, data: {self.data}\"\n",
    "\n",
    "    def to_dict(self):\n",
    "        json_dict = {}\n",
    "        json_dict[\"type\"] = self.n_type\n",
    "        json_dict[\"height\"] = self.height\n",
    "        json_dict[\"data\"] = self.data\n",
    "        return json_dict\n",
    "\n",
    "class Node:\n",
    "    def __init__(self, n_type, height, nodes, str_rep):\n",
    "        self.n_type = n_type\n",
    "        self.height = height\n",
    "        self.nodes = nodes\n",
    "        self.str_rep = str_rep\n",
    "\n",
    "    def __repr__(self):\n",
    "        return f\"type: {self.n_type}, height: {self.height}, nodes: {self.nodes}\"\n",
    "\n",
    "    def to_dict(self):\n",
    "        json_dict = {}\n",
    "        json_dict[\"type\"] = self.n_type\n",
    "        json_dict[\"height\"] = self.height\n",
    "        json_dict[\"nodes\"] = self.nodes\n",
    "        return json_dict\n"
   ]
  },
  {
   "cell_type": "code",
   "execution_count": 695,
   "metadata": {},
   "outputs": [],
   "source": [
    "def min_matrix(dist_matrix):\n",
    "    min_locs = dist_matrix.idxmin()\n",
    "    min_row = 0\n",
    "    min_col = 0\n",
    "    min_val = np.inf\n",
    "    for val in min_locs:\n",
    "        if dist_matrix.at[val, min_locs[val]] < min_val:\n",
    "            min_col = val\n",
    "            min_row = min_locs[val]\n",
    "            min_val = dist_matrix.at[val, min_locs[val]]\n",
    "\n",
    "    return min_row, min_col, min_val"
   ]
  },
  {
   "cell_type": "code",
   "execution_count": 696,
   "metadata": {},
   "outputs": [],
   "source": [
    "def generate_starting_clusters(dist_matrix):\n",
    "    clusters = {0:[]}\n",
    "    for column in dist_matrix:\n",
    "        clusters[0].append(column)\n",
    "    return clusters"
   ]
  },
  {
   "cell_type": "code",
   "execution_count": 697,
   "metadata": {},
   "outputs": [],
   "source": [
    "def init_dendegram(dist_matrix):\n",
    "    dgram = []\n",
    "    for column in dist_matrix:\n",
    "        dgram.append(Leaf(column))\n",
    "    return dgram"
   ]
  },
  {
   "cell_type": "code",
   "execution_count": 698,
   "metadata": {},
   "outputs": [],
   "source": [
    "def single_link(s, r):\n",
    "    return np.minimum(s, r)"
   ]
  },
  {
   "cell_type": "code",
   "execution_count": 699,
   "metadata": {},
   "outputs": [],
   "source": [
    "def complete_link(s, r):\n",
    "    return np.maximum(s, r)"
   ]
  },
  {
   "cell_type": "code",
   "execution_count": 712,
   "metadata": {},
   "outputs": [],
   "source": [
    "import copy\n",
    "import re\n",
    "import json\n",
    "def hcluster(dist_matrix, threshold = np.inf, merge_func = single_link):\n",
    "    for i in range(len(dist_matrix)):\n",
    "        for j in range(len(dist_matrix)):\n",
    "            if i == j:\n",
    "                dist_matrix.iat[i,j]=np.nan #so that 0 isn't always reported as the min val\n",
    "\n",
    "    clusters = generate_starting_clusters(dist_matrix)\n",
    "    dgram = init_dendegram(dist_matrix)\n",
    "    current_height = 0\n",
    "    \n",
    "    while len(clusters[current_height]) > 1:\n",
    "        \n",
    "        s, r, min_val = min_matrix(dist_matrix) #s = row, r = column\n",
    "\n",
    "        # Set up next level of clusters\n",
    "        clusters[current_height+1] = copy.deepcopy(clusters[current_height])\n",
    "        clusters[current_height+1].remove(s)\n",
    "        clusters[current_height+1].remove(r)\n",
    "\n",
    "        # Create new cluster\n",
    "        new_cluster = str((s,r)).strip()\n",
    "        new_cluster = re.sub('[^A-Za-z0-9,()]+','', new_cluster)\n",
    "\n",
    "        # Insert new cluster\n",
    "        clusters[current_height+1].insert(0, new_cluster)\n",
    "\n",
    "        a = next(item for item in dgram if item.str_rep == str(s))\n",
    "        b = next(item for item in dgram if item.str_rep == str(r))\n",
    "        \n",
    "        dgram.append(Node('node', min_val+1, [a.to_dict(), b.to_dict()], new_cluster))\n",
    "        dgram.remove(a)\n",
    "        dgram.remove(b)\n",
    "\n",
    "        \n",
    "        new_matrix = pd.DataFrame(np.nan, clusters[current_height+1], clusters[current_height+1]) \n",
    "        s_values = dist_matrix.loc[s]\n",
    "        r_values = dist_matrix[r]\n",
    "        dist_matrix.drop(index=s, inplace=True)\n",
    "        dist_matrix.drop(columns=r, inplace=True)  \n",
    "        for j in clusters[current_height]:\n",
    "            if j != s and j != r:\n",
    "                new_matrix[j] = dist_matrix[j]\n",
    "        merge = merge_func(s_values, r_values)\n",
    "        merge = merge.drop(s)\n",
    "        merge = merge.drop(r)\n",
    "        \n",
    "        new_matrix[new_cluster] = merge\n",
    "        for i in merge.keys():\n",
    "            new_matrix.loc[new_cluster].at[i] = merge[i]      \n",
    "\n",
    "        dist_matrix = copy.deepcopy(new_matrix)\n",
    "        current_height += 1\n",
    "    dgram[0].n_type = 'root'\n",
    "    dgram[0].height += min_val\n",
    "\n",
    "    dendegram = dgram[0].to_dict()\n",
    "    f = open(\"dendegram.json\",'w')\n",
    "    json.dump(dendegram, f, indent = 4)\n",
    "\n",
    "    if threshold != np.inf:\n",
    "        cuts = []\n",
    "        cuts = cut_dgram(dendegram, threshold)\n",
    "        return create_final_clusters(cuts)\n",
    "    else:\n",
    "        print(\"Output dendegram to\")\n"
   ]
  },
  {
   "cell_type": "code",
   "execution_count": 701,
   "metadata": {},
   "outputs": [],
   "source": [
    "def cut_dgram(dgram, threshold):\n",
    "    s1 = []\n",
    "    s2 = []\n",
    "\n",
    "    s1.append(dgram)\n",
    "    while len(s1) != 0:\n",
    "        curr = s1.pop()\n",
    "        \n",
    "        if curr['height'] >= threshold:\n",
    "            s1.append(curr['nodes'][0])\n",
    "            s1.append(curr['nodes'][1])\n",
    "        else:\n",
    "            s2.append(curr)\n",
    "\n",
    "    return s2\n"
   ]
  },
  {
   "cell_type": "code",
   "execution_count": 702,
   "metadata": {},
   "outputs": [],
   "source": [
    "def find_leaves(dgram):\n",
    "    s1 = []\n",
    "    s2 = []\n",
    "\n",
    "    s1.append(dgram)\n",
    "    while len(s1) != 0:\n",
    "        curr = s1.pop()\n",
    "        if curr['type']=='node' or curr['type'] == 'root':\n",
    "            s1.append(curr['nodes'][0])\n",
    "            s1.append(curr['nodes'][1])\n",
    "        else:\n",
    "            s2.append(curr)\n",
    "     \n",
    "    # Return all the leaf data\n",
    "    leaves = []\n",
    "    for leaf in s2:\n",
    "        leaves.append(leaf['data'])\n",
    "    return leaves\n",
    "        \n"
   ]
  },
  {
   "cell_type": "code",
   "execution_count": 703,
   "metadata": {},
   "outputs": [],
   "source": [
    "def create_final_clusters(dgrams):\n",
    "    cluster = 0\n",
    "    clusters = {}\n",
    "    for tree in dgrams:\n",
    "        result = find_leaves(tree)\n",
    "        clusters[cluster] = result\n",
    "        cluster += 1\n",
    "    return clusters\n"
   ]
  },
  {
   "cell_type": "code",
   "execution_count": 706,
   "metadata": {
    "tags": []
   },
   "outputs": [
    {
     "output_type": "stream",
     "name": "stdout",
     "text": [
      "{0: [24, 23], 1: [22, 21, 20, 17, 16, 18, 19, 8, 13, 7, 15, 10, 9, 4, 14, 6, 11, 5, 2, 1, 3, 12, 0]}\n"
     ]
    }
   ],
   "source": [
    "\n",
    "dist_matrix = calcDistMatrix(df, euclideanDist)\n",
    "end_gram_single = hcluster(dist_matrix, 14)\n",
    "print(end_gram_single)\n"
   ]
  },
  {
   "cell_type": "code",
   "execution_count": 707,
   "metadata": {},
   "outputs": [
    {
     "output_type": "stream",
     "name": "stdout",
     "text": [
      "{0: [24, 23], 1: [9, 7, 15, 10, 8, 13], 2: [6, 14, 5, 11, 2, 1, 3, 12, 0, 4], 3: [16, 18, 19], 4: [22, 21, 20, 17]}\n"
     ]
    }
   ],
   "source": [
    "dist_matrix = calcDistMatrix(df, euclideanDist)\n",
    "end_gram_comp = hcluster(dist_matrix, 14, complete_link)\n",
    "print(end_gram_comp)"
   ]
  },
  {
   "source": [
    "### Analysis"
   ],
   "cell_type": "markdown",
   "metadata": {}
  },
  {
   "cell_type": "code",
   "execution_count": 716,
   "metadata": {},
   "outputs": [],
   "source": [
    "def all_together(file, threshold=np.inf, dist_func=single_link):\n",
    "    df = read_file(file)\n",
    "    dist_matrix = calcDistMatrix(df, euclideanDist)\n",
    "    end_gram = hcluster(dist_matrix, threshold, dist_func)\n",
    "    dist_matrix = calcDistMatrix(df, euclideanDist) #hcluster modifies og dist_matrix\n",
    "    for gram in list(end_gram.keys()):\n",
    "        print(f\"Cluster {gram}\")\n",
    "\n",
    "    "
   ]
  },
  {
   "cell_type": "code",
   "execution_count": 717,
   "metadata": {},
   "outputs": [
    {
     "output_type": "stream",
     "name": "stdout",
     "text": [
      "Cluster 0\nCluster 1\nCluster 2\nCluster 3\nCluster 4\n"
     ]
    }
   ],
   "source": [
    "all_together('data/mammal_milk.csv', 14, complete_link)"
   ]
  },
  {
   "cell_type": "code",
   "execution_count": null,
   "metadata": {},
   "outputs": [],
   "source": []
  }
 ],
 "metadata": {
  "interpreter": {
   "hash": "97becfcb763151208ce3df3ac378d09f86a9d807a85cc6037b2be2fe498f3aac"
  },
  "kernelspec": {
   "display_name": "Python 3",
   "name": "python3",
   "language": "python"
  },
  "language_info": {
   "codemirror_mode": {
    "name": "ipython",
    "version": 3
   },
   "file_extension": ".py",
   "mimetype": "text/x-python",
   "name": "python",
   "nbconvert_exporter": "python",
   "pygments_lexer": "ipython3",
   "version": "3.8.8-final"
  }
 },
 "nbformat": 4,
 "nbformat_minor": 4
}