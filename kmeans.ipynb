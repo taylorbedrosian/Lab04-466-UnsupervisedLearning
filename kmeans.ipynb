{
 "cells": [
  {
   "cell_type": "code",
   "execution_count": 1,
   "id": "4da9c75a-ac1c-4194-abeb-41e7e69ab451",
   "metadata": {},
   "outputs": [],
   "source": [
    "import numpy as np\n",
    "import pandas as pd\n",
    "import math\n",
    "import json\n",
    "import sys\n",
    "import time"
   ]
  },
  {
   "cell_type": "markdown",
   "id": "de4b4dfd-0f3f-4b23-a069-94f14cb400f5",
   "metadata": {},
   "source": [
    "### data manipulation"
   ]
  },
  {
   "cell_type": "code",
   "execution_count": 2,
   "id": "91511bfb-ced3-45f5-bc79-e4a12c4153d0",
   "metadata": {},
   "outputs": [],
   "source": [
    "def readFiles(filename):\n",
    "    df = pd.read_csv(filename, header=None)\n",
    "    \n",
    "    # restrictions are in first row\n",
    "    restr = pd.to_numeric(df.iloc[0])\n",
    "    \n",
    "    # drop metadata columns\n",
    "    df = df.drop([0], axis=0)\n",
    "    \n",
    "    return df, restr"
   ]
  },
  {
   "cell_type": "code",
   "execution_count": 3,
   "id": "5e3daaf2-cfce-461f-90b0-10e2f01871f2",
   "metadata": {},
   "outputs": [],
   "source": [
    "def restrictdf(df, restr, setIndex=False, getDropped=False):\n",
    "    # remove restricted cols and convert to numeric\n",
    "    dropped=pd.DataFrame()\n",
    "    for i, v in enumerate(df.columns):\n",
    "        if restr[i] == 0 and setIndex:\n",
    "            df = df.set_index(df.columns[i])\n",
    "        elif restr[i] < 1:\n",
    "            dropped[v] = df[v]\n",
    "            df = df.drop(columns=[v])\n",
    "        else:\n",
    "            df[v] = pd.to_numeric(df[v], errors='coerce')\n",
    "            \n",
    "    # drop unknown values\n",
    "    df = df.dropna()\n",
    "    df = df[(df != '?').all(axis=1)]\n",
    "    if getDropped:\n",
    "        return df, dropped\n",
    "    return df"
   ]
  },
  {
   "cell_type": "code",
   "execution_count": 4,
   "id": "9409140a-1cd6-4cba-b119-54a1d542ab6b",
   "metadata": {},
   "outputs": [],
   "source": [
    "# normalizes all columns\n",
    "def normalizedf(indf):\n",
    "    df=indf.copy()\n",
    "    for c in df.columns:\n",
    "        colMax = df[c].max()\n",
    "        colMin = df[c].min()\n",
    "        \n",
    "        # probably no need to normalize if the values are very small. Might have to adjust the value\n",
    "#         if colMax < 1:\n",
    "#             continue\n",
    "        df[c] = df[c].apply(lambda x: (x - colMin)/(colMax-colMin))\n",
    "    return df"
   ]
  },
  {
   "cell_type": "markdown",
   "id": "a8c20af3-ab85-4722-b880-b0f4583d0bd0",
   "metadata": {},
   "source": [
    "### helper functions"
   ]
  },
  {
   "cell_type": "code",
   "execution_count": 5,
   "id": "4e3cfafc-b15a-4614-bea2-b5268ce55c90",
   "metadata": {},
   "outputs": [],
   "source": [
    "def euclideanDist(point, pointArray):\n",
    "    return np.sqrt(np.sum((pointArray - point) ** 2, axis=1))"
   ]
  },
  {
   "cell_type": "code",
   "execution_count": 6,
   "id": "e8bc9b11-d113-4d3f-acc6-1137d1881307",
   "metadata": {},
   "outputs": [],
   "source": [
    "def initCentroids_random(numdf, k):\n",
    "    if k>=len(numdf):\n",
    "        print('k cannot be bigger than the length of data')\n",
    "        exit(1)\n",
    "    sample=np.array(numdf.sample(k))\n",
    "    while len(np.unique(sample)) < k:\n",
    "        sample=np.array(numdf.sample(k))\n",
    "    return sample\n"
   ]
  },
  {
   "cell_type": "code",
   "execution_count": 101,
   "id": "3db89fe7-7a94-4bdb-b220-398784b95dfa",
   "metadata": {},
   "outputs": [],
   "source": [
    "def calcCentroid(dfarray):\n",
    "    return np.divide(np.sum(dfarray, axis=0),len(dfarray))"
   ]
  },
  {
   "cell_type": "code",
   "execution_count": 110,
   "id": "0ace4168-3dae-4aaf-895d-39ccd826c682",
   "metadata": {},
   "outputs": [
    {
     "name": "stdout",
     "output_type": "stream",
     "text": [
      "[]\n",
      "[array([42,  9], dtype=int64)]\n",
      "[array([42,  9], dtype=int64)]\n",
      "[array([42,  9], dtype=int64)]\n"
     ]
    }
   ],
   "source": [
    "def initCentroids_max(indf, k, distFunc):\n",
    "    if indf.columns[-1] == 'cluster':\n",
    "        numdf = indf.drop('cluster')\n",
    "    else:\n",
    "        numdf=indf.copy()\n",
    "    \n",
    "    dfarray = np.array(numdf)\n",
    "    c = calcCentroid(dfarray)\n",
    "    centroids=[]\n",
    "    centroids.append(np.array(numdf.iloc[np.argmax(distFunc(c, dfarray))]))\n",
    "    for i in range(k-1):\n",
    "        sumdist=np\n",
    "    return centroids\n",
    "print(initCentroids_max(df, 4, euclideanDist))\n",
    "# print(df.to_markdown())"
   ]
  },
  {
   "cell_type": "code",
   "execution_count": 66,
   "id": "09b917ea-52f7-4c36-996b-479c456871de",
   "metadata": {},
   "outputs": [],
   "source": [
    "# pass a ***vectorized*** distance function: dist(point, pointArray)\n",
    "# dataframe must be numeric other than last column\n",
    "def assignCentroids(numdf, centroids, distfunc, getNumAssign = False):\n",
    "    if df.columns[-1] != 'cluster':\n",
    "        df['cluster'] = -1\n",
    "    numAssign=0\n",
    "    for i, row in df.iloc[:,:-1].iterrows():\n",
    "        prev = df.at[i,'cluster']\n",
    "        new = np.argmin(distfunc(row.values, centroids))\n",
    "        if prev != new:\n",
    "            numAssign += 1\n",
    "        df.at[i,'cluster'] = new\n",
    "    if getNumAssign:\n",
    "        return df, numAssign\n",
    "    return df"
   ]
  },
  {
   "cell_type": "code",
   "execution_count": 8,
   "id": "af350a9e-f88a-4f05-be3e-f56b44f32576",
   "metadata": {},
   "outputs": [],
   "source": [
    "def reCalcCentroids(numdf, centroids):\n",
    "    # centroid index is tag\n",
    "    for i in range(len(centroids)):\n",
    "        cluster = numdf[numdf['cluster'] == i]\n",
    "        centroids[i] = np.mean(np.array(cluster.iloc[:,:-1]), axis=0)\n",
    "    return centroids"
   ]
  },
  {
   "cell_type": "code",
   "execution_count": 9,
   "id": "7fd2b806-e233-4027-be34-76d6d4add18e",
   "metadata": {},
   "outputs": [],
   "source": [
    "def calcSSE(dfarray, c, distFunc):\n",
    "    return np.sum(np.square(distFunc(c, dfarray)))"
   ]
  },
  {
   "cell_type": "code",
   "execution_count": 10,
   "id": "fab4224d-8c0e-4646-93e0-52301050b59f",
   "metadata": {},
   "outputs": [],
   "source": [
    "# takes labeled numeric df\n",
    "def calcTotSSE(numdf, centroids, distFunc):\n",
    "    totSSE=None\n",
    "    for i, c in enumerate(centroids):\n",
    "        cSSE = calcSSE(np.array(numdf[numdf['cluster'] == i].iloc[:,:-1]), c, distFunc)\n",
    "        if totSSE is None:\n",
    "            totSSE = cSSE\n",
    "        else:\n",
    "            totSSE += cSSE\n",
    "    return totSSE"
   ]
  },
  {
   "cell_type": "markdown",
   "id": "241d0320-a23a-4b6d-8e9c-9c6a7b65ff9a",
   "metadata": {},
   "source": [
    "### kmeans "
   ]
  },
  {
   "cell_type": "code",
   "execution_count": 40,
   "id": "6184fbb7-53ea-488d-bcd4-b61bea681d0d",
   "metadata": {},
   "outputs": [],
   "source": [
    "def kmeans_sse(df, centroids, distFunc, minSSE):\n",
    "    df = assignCentroids(df, centroids, distFunc)\n",
    "    prevSSE = calcTotSSE(df, centroids, distFunc)\n",
    "    \n",
    "    centroids = reCalcCentroids(df, centroids)\n",
    "    df = assignCentroids(df, centroids, distFunc)\n",
    "    currSSE = calcTotSSE(df, centroids, distFunc)\n",
    "    print(f\"current sse: {currSSE}\")\n",
    "    \n",
    "    counter = 0\n",
    "    while counter < 10 and prevSSE - currSSE > minSSE:\n",
    "        centroids = reCalcCentroids(df, centroids)\n",
    "        df = assignCentroids(df, centroids, distFunc)\n",
    "        prevSSE = currSSE\n",
    "        currSSE = calcTotSSE(df, centroids, distFunc)\n",
    "        print(f\"current sse: {currSSE}\")\n",
    "        \n",
    "        counter += 1\n",
    "    return df, centroids"
   ]
  },
  {
   "cell_type": "code",
   "execution_count": 12,
   "id": "fecefc5e-b497-421e-82fd-aaa71ce6e5c0",
   "metadata": {},
   "outputs": [],
   "source": [
    "def kmeans_reassign(df, centroids, distFunc, minReassign):\n",
    "    df, numAssign = assignCentroids(df, centroids, distFunc, getNumAssign=True)\n",
    "    print(f\"{numAssign} points reassigned\")\n",
    "    \n",
    "    centroids = reCalcCentroids(df, centroids)\n",
    "    df, numAssign = assignCentroids(df, centroids, distFunc, getNumAssign=True)\n",
    "    print(f\"{numAssign} points reassigned\")\n",
    "    \n",
    "    counter = 0\n",
    "    while counter < 100 and numAssign > minReassign:\n",
    "        centroids = reCalcCentroids(df, centroids)\n",
    "        df, numAssign = assignCentroids(df, centroids, distFunc, getNumAssign=True)\n",
    "        print(f\"{numAssign} points reassigned\")\n",
    "        counter += 1\n",
    "    return df, centroids"
   ]
  },
  {
   "cell_type": "markdown",
   "id": "7ebc6173-9bf9-4e4f-8899-a29c9473b35c",
   "metadata": {},
   "source": [
    "### analytical functions"
   ]
  },
  {
   "cell_type": "code",
   "execution_count": 36,
   "id": "0647ef26-48e6-4682-a3af-4a6305429245",
   "metadata": {},
   "outputs": [],
   "source": [
    "# takes numeric df with cluster labe\n",
    "def analyzeClusters(df, centroids, distFunc, extraCols = None):\n",
    "    clusters=[]\n",
    "    for i, c in enumerate(centroids):\n",
    "        info = {}\n",
    "        info[\"clusterID\"] = i\n",
    "        pnts = df[df['cluster'] == i]\n",
    "        if len(pnts) == 0:\n",
    "            continue\n",
    "        \n",
    "        info[\"SSE\"] = calcSSE(np.array(pnts.iloc[:,:-1]), c, distFunc)\n",
    "        info[\"centroid\"] = c\n",
    "        \n",
    "        dists = distFunc(c, np.array(pnts.iloc[:,:-1]))\n",
    "        info[\"maxDistToCentroid\"] = max(dists)\n",
    "        info[\"minDistToCentroid\"] = min(dists)\n",
    "        info[\"avgDistToCentroid\"] = np.sum(dists)/len(pnts)\n",
    "        info[\"numPoints\"] = len(pnts)\n",
    "        if extraCols is not None:\n",
    "            pnts = pnts.join(extraCols)\n",
    "        info[\"dataPoints\"] = pnts\n",
    "        clusters.append(info)\n",
    "    return clusters"
   ]
  },
  {
   "cell_type": "code",
   "execution_count": 56,
   "id": "adcf7869-aa1a-4ef3-835b-dd6c0fcd8046",
   "metadata": {},
   "outputs": [],
   "source": [
    "def printClusterInfo(clusters, noData=False):\n",
    "    for clusterInfo in clusters:\n",
    "        for key in clusterInfo:\n",
    "            if key == \"dataPoints\":\n",
    "                if not noData:\n",
    "                    print(f\"{key}: \\n{clusterInfo[key].to_markdown()}\")\n",
    "            else:\n",
    "                print(f\"{key}: {clusterInfo[key]}\")\n",
    "        print('\\n')"
   ]
  },
  {
   "cell_type": "markdown",
   "id": "e5aaaa97-0750-427a-9ea8-55336e02916a",
   "metadata": {},
   "source": [
    "### running"
   ]
  },
  {
   "cell_type": "code",
   "execution_count": 15,
   "id": "46e33fc1-5689-4957-abff-203bb9bcc2db",
   "metadata": {
    "tags": []
   },
   "outputs": [],
   "source": [
    "# k=4\n",
    "\n",
    "# sys.argv = f\"dbscan.py ./data/4clusters.csv {k}\".split(\" \")\n",
    "# if __name__ == \"__main__\":\n",
    "#     if len(sys.argv) == 3:\n",
    "#         _, datafile, k = sys.argv\n",
    "#     else:\n",
    "#         print(\"Usage: python3 dbscan.py <datafile.csv> <epsilon> <numPoints>\")\n",
    "#         exit(1)\n",
    "        \n",
    "#     k = int(k)\n",
    "#     df_full, restr = readFiles(datafile)\n",
    "#     df = restrictdf(df_full, restr, getDropped=True)\n",
    "#     df = df\n",
    "#     centroids = initCentroids(df,k)\n",
    "#     df, centroids = kmeans_lite(df, centroids, euclideanDist)\n",
    "#     df.plot.scatter(x=0,y=1,c='cluster',colormap='viridis')    \n",
    "# #     print(dropped)\n",
    "# #     df = df.join(dropped)\n",
    "# #     print(df.to_markdown())\n",
    "#     printClusterInfo(analyzeClusters(df, centroids, euclideanDist), extraCols = dropped)"
   ]
  },
  {
   "cell_type": "markdown",
   "id": "0a978e0d-36f5-41bf-9a74-cbb242dc4783",
   "metadata": {},
   "source": [
    "### Iris"
   ]
  },
  {
   "cell_type": "code",
   "execution_count": 48,
   "id": "4aedfcc3-2e56-44d2-bae7-b6c61c34ec4b",
   "metadata": {},
   "outputs": [],
   "source": [
    "def calcPurity(col):\n",
    "    vals = col.value_counts()\n",
    "    return max(vals)/len(col)"
   ]
  },
  {
   "cell_type": "code",
   "execution_count": 70,
   "id": "fcb537fd-d9b7-4e5c-8680-3d2b0fa69ccc",
   "metadata": {},
   "outputs": [
    {
     "name": "stdout",
     "output_type": "stream",
     "text": [
      "150 points reassigned\n",
      "6 points reassigned\n",
      "3 points reassigned\n",
      "4 points reassigned\n",
      "5 points reassigned\n",
      "4 points reassigned\n",
      "4 points reassigned\n",
      "3 points reassigned\n",
      "3 points reassigned\n",
      "1 points reassigned\n",
      "0 points reassigned\n",
      "\n",
      "purity of cluster 0: 0.7704918032786885\n",
      "purity of cluster 1: 1.0\n",
      "purity of cluster 2: 0.9230769230769231\n",
      "\n",
      "clusterID: 0\n",
      "SSE: 38.29081967213115\n",
      "centroid: [5.88360656 2.74098361 4.38852459 1.43442623]\n",
      "maxDistToCentroid: 1.6468010735564589\n",
      "minDistToCentroid: 0.23571239518479192\n",
      "avgDistToCentroid: 0.7311084910642591\n",
      "numPoints: 61\n",
      "\n",
      "\n",
      "clusterID: 1\n",
      "SSE: 15.2404\n",
      "centroid: [5.006 3.418 1.464 0.244]\n",
      "maxDistToCentroid: 1.2393514432960495\n",
      "minDistToCentroid: 0.059933296255086886\n",
      "avgDistToCentroid: 0.4841322496689401\n",
      "numPoints: 50\n",
      "\n",
      "\n",
      "clusterID: 2\n",
      "SSE: 25.413846153846155\n",
      "centroid: [6.85384615 3.07692308 5.71538462 2.05384615]\n",
      "maxDistToCentroid: 1.5515596276348875\n",
      "minDistToCentroid: 0.23945203717343622\n",
      "avgDistToCentroid: 0.7318458783535899\n",
      "numPoints: 39\n",
      "\n",
      "\n"
     ]
    }
   ],
   "source": [
    "df_full, restr = readFiles('./data/iris.csv')\n",
    "df,dropped = restrictdf(df_full, restr, getDropped=True)\n",
    "centroids = initCentroids(df, 3)\n",
    "\n",
    "df, centroids = kmeans_reassign(df, centroids, euclideanDist, 0.1)\n",
    "clusters = analyzeClusters(df, centroids, euclideanDist, extraCols = dropped)\n",
    "print()\n",
    "for c in clusters:\n",
    "    pnts = c[\"dataPoints\"]\n",
    "    print(f\"purity of cluster {c['clusterID']}: {calcPurity(pnts.iloc[:,-1])}\")\n",
    "print()\n",
    "printClusterInfo(clusters, noData=True)\n",
    "# df.plot.scatter(x=0,y=1,c='cluster',colormap='viridis')    "
   ]
  },
  {
   "cell_type": "markdown",
   "id": "a69fd548-d5c4-44ce-a840-ae16405806c7",
   "metadata": {},
   "source": [
    "### 4clusters"
   ]
  },
  {
   "cell_type": "code",
   "execution_count": 91,
   "id": "65e1bf02-982c-41e6-8bbd-2c5ad2dda36e",
   "metadata": {},
   "outputs": [],
   "source": [
    "df_full, restr = readFiles('./data/4clusters.csv')\n",
    "df = restrictdf(df_full, restr)"
   ]
  },
  {
   "cell_type": "markdown",
   "id": "981824b1-f54d-4715-862a-fe47c29a4c02",
   "metadata": {},
   "source": [
    "### many clusters"
   ]
  },
  {
   "cell_type": "markdown",
   "id": "16c03681-b399-400e-9399-456031a55685",
   "metadata": {},
   "source": [
    "### mammal milk"
   ]
  },
  {
   "cell_type": "markdown",
   "id": "eda5f596-049a-485a-b843-350100f82664",
   "metadata": {},
   "source": [
    "### accidents 1"
   ]
  },
  {
   "cell_type": "markdown",
   "id": "8cd3f5bb-24ba-4780-bb9a-ca2f18315912",
   "metadata": {},
   "source": [
    "### accidents 3"
   ]
  }
 ],
 "metadata": {
  "kernelspec": {
   "display_name": "Python 3",
   "language": "python",
   "name": "python3"
  },
  "language_info": {
   "codemirror_mode": {
    "name": "ipython",
    "version": 3
   },
   "file_extension": ".py",
   "mimetype": "text/x-python",
   "name": "python",
   "nbconvert_exporter": "python",
   "pygments_lexer": "ipython3",
   "version": "3.8.8"
  }
 },
 "nbformat": 4,
 "nbformat_minor": 5
}
