{
 "cells": [
  {
   "cell_type": "code",
   "execution_count": 1,
   "id": "4da9c75a-ac1c-4194-abeb-41e7e69ab451",
   "metadata": {},
   "outputs": [],
   "source": [
    "import numpy as np\n",
    "import pandas as pd\n",
    "import math\n",
    "import json\n",
    "import sys\n",
    "import time"
   ]
  },
  {
   "cell_type": "markdown",
   "id": "de4b4dfd-0f3f-4b23-a069-94f14cb400f5",
   "metadata": {},
   "source": [
    "### data manipulation"
   ]
  },
  {
   "cell_type": "code",
   "execution_count": 2,
   "id": "91511bfb-ced3-45f5-bc79-e4a12c4153d0",
   "metadata": {},
   "outputs": [],
   "source": [
    "def readFiles(filename):\n",
    "    df = pd.read_csv(datafile, header=None)\n",
    "    \n",
    "    # restrictions are in first row\n",
    "    restr = pd.to_numeric(df.iloc[0])\n",
    "    \n",
    "    # drop metadata columns\n",
    "    df = df.drop([0], axis=0)\n",
    "    \n",
    "    return df, restr"
   ]
  },
  {
   "cell_type": "code",
   "execution_count": 77,
   "id": "5e3daaf2-cfce-461f-90b0-10e2f01871f2",
   "metadata": {},
   "outputs": [],
   "source": [
    "def restrictdf(df, restr):\n",
    "    # remove restricted cols and convert to numeric\n",
    "    for i, v in enumerate(df.columns):\n",
    "        if restr[i] == 0:\n",
    "            df = df.set_index(df.columns[i])\n",
    "        elif restr[i] < 1:\n",
    "            df = df.drop(columns=[v])\n",
    "        else:\n",
    "            df[v] = pd.to_numeric(df[v], errors='coerce')\n",
    "            \n",
    "    # drop unknown values\n",
    "    df = df.dropna()\n",
    "    df = df[(df != '?').all(axis=1)]\n",
    "    return df"
   ]
  },
  {
   "cell_type": "code",
   "execution_count": 4,
   "id": "9409140a-1cd6-4cba-b119-54a1d542ab6b",
   "metadata": {},
   "outputs": [],
   "source": [
    "# normalizes all columns\n",
    "def normalizedf(indf):\n",
    "    df=indf.copy()\n",
    "    for c in df.columns:\n",
    "        colMax = df[c].max()\n",
    "        colMin = df[c].min()\n",
    "        \n",
    "        # probably no need to normalize if the values are very small. Might have to adjust the value\n",
    "#         if colMax < 1:\n",
    "#             continue\n",
    "        df[c] = df[c].apply(lambda x: (x - colMin)/(colMax-colMin))\n",
    "    return df"
   ]
  },
  {
   "cell_type": "markdown",
   "id": "a8c20af3-ab85-4722-b880-b0f4583d0bd0",
   "metadata": {},
   "source": [
    "### helper functions"
   ]
  },
  {
   "cell_type": "code",
   "execution_count": 5,
   "id": "4e3cfafc-b15a-4614-bea2-b5268ce55c90",
   "metadata": {},
   "outputs": [],
   "source": [
    "def euclideanDist(point, pointArray):\n",
    "    return np.sqrt(np.sum((pointArray - point) ** 2, axis=1))"
   ]
  },
  {
   "cell_type": "code",
   "execution_count": 21,
   "id": "e8bc9b11-d113-4d3f-acc6-1137d1881307",
   "metadata": {},
   "outputs": [],
   "source": [
    "def initCentroids(numdf, k):\n",
    "    return np.array(numdf.sample(k))"
   ]
  },
  {
   "cell_type": "code",
   "execution_count": 101,
   "id": "09b917ea-52f7-4c36-996b-479c456871de",
   "metadata": {},
   "outputs": [],
   "source": [
    "# pass a ***vectorized*** distance function: dist(point, pointArray)\n",
    "# dataframe must be numeric other than last column\n",
    "def assignCentroids(numdf, centroids, distfunc):\n",
    "    if df.columns[-1] != 'cluster':\n",
    "        df['cluster'] = -1\n",
    "        \n",
    "    for i, row in df.iloc[:,:-1].iterrows():\n",
    "        df.at[i,'cluster'] = np.argmin(distfunc(row.values, centroids))\n",
    "    return df"
   ]
  },
  {
   "cell_type": "code",
   "execution_count": 125,
   "id": "af350a9e-f88a-4f05-be3e-f56b44f32576",
   "metadata": {},
   "outputs": [],
   "source": [
    "def reCalcCentroids(numdf, centroids):\n",
    "    # centroid index is tag\n",
    "    for i in range(len(centroids)):\n",
    "        cluster = numdf[numdf['cluster'] == i]\n",
    "        centroids[i] = np.mean(np.array(cluster.iloc[:,:-1]), axis=0)\n",
    "    return centroids\n",
    "#         meanpt = np.mean(np.array(cluster.iloc[:,-1]), axis=1)\n",
    "#         print(meanpt)"
   ]
  },
  {
   "cell_type": "code",
   "execution_count": 25,
   "id": "3ef1c869-4f06-4603-8798-b279414aa2fe",
   "metadata": {},
   "outputs": [],
   "source": [
    "# pass a ***vectorized*** distance function: dist(point, pointArray)\n",
    "def calcCentroid(df, distFunctionVect):\n",
    "    # must be fully numeric and normalized df\n",
    "    dfarray = np.array(df)\n",
    "    \n",
    "    distMatrix = []\n",
    "    for i, d in enumerate(dfarray):\n",
    "        # performs Euclidean distance on all elements in data (vectorized)\n",
    "        dists = distFunctionVect(dfarray[i], dfarray)\n",
    "        distMatrix.append(dists)\n",
    "    \n",
    "    return pd.DataFrame(distMatrix)"
   ]
  },
  {
   "cell_type": "markdown",
   "id": "7ebc6173-9bf9-4e4f-8899-a29c9473b35c",
   "metadata": {},
   "source": [
    "### analytical functions"
   ]
  },
  {
   "cell_type": "code",
   "execution_count": 7,
   "id": "34e13ef8-8aee-4b94-9048-ec5553920546",
   "metadata": {},
   "outputs": [],
   "source": [
    "# gets centroid of numeric dataframe (not normalized)\n",
    "def calcCentroid(numdf):\n",
    "    return np.divide(np.sum(np.array(numdf), axis=0),len(numdf))"
   ]
  },
  {
   "cell_type": "code",
   "execution_count": 8,
   "id": "0647ef26-48e6-4682-a3af-4a6305429245",
   "metadata": {},
   "outputs": [],
   "source": [
    "# takes df ran through dbscan with visited, cluster, and type columns\n",
    "def analyzeClusters(df, numdf, distFunc):\n",
    "    clusters=[]\n",
    "    for i, c in enumerate(df['cluster'].unique()):\n",
    "        info = {}\n",
    "        info[\"clusterID\"] = i\n",
    "        if c is None:\n",
    "            pnts = df.loc[df['cluster'].isna()]\n",
    "            info[\"type\"] = \"Noise\"\n",
    "        else:\n",
    "            pnts = df[df['cluster'] == c]\n",
    "            info[\"type\"] = \"Cluster\"\n",
    "        \n",
    "        numpnts = numdf.loc[pnts.index]\n",
    "        \n",
    "        info[\"centroid\"] = calcCentroid(numpnts)\n",
    "        dists = distFunc(info[\"centroid\"], np.array(numpnts))\n",
    "        df.loc[pnts.index, \"distToCentroid\"] = dists\n",
    "        pnts = df.loc[pnts.index]\n",
    "        info[\"maxDistToCentroid\"] = max(dists)\n",
    "        info[\"minDistToCentroid\"] = min(dists)\n",
    "        info[\"avgDistToCentroid\"] = np.sum(dists)/len(pnts)\n",
    "        info[\"numPoints\"] = len(pnts)\n",
    "        info[\"dataPoints\"] = pnts\n",
    "        clusters.append(info)\n",
    "    return clusters"
   ]
  },
  {
   "cell_type": "code",
   "execution_count": 9,
   "id": "adcf7869-aa1a-4ef3-835b-dd6c0fcd8046",
   "metadata": {},
   "outputs": [],
   "source": [
    "def printClusterInfo(clusters):\n",
    "    for clusterInfo in clusters:\n",
    "        for key in clusterInfo:\n",
    "            if key == \"dataPoints\":\n",
    "                print(f\"{key}: \\n{clusterInfo[key].to_markdown()}\")\n",
    "            else:\n",
    "                print(f\"{key}: {clusterInfo[key]}\")\n",
    "        print('\\n')"
   ]
  },
  {
   "cell_type": "markdown",
   "id": "02322fbe-ed42-40ce-9afb-5f0c18be1df2",
   "metadata": {},
   "source": [
    "### dbscan functions"
   ]
  },
  {
   "cell_type": "markdown",
   "id": "e5aaaa97-0750-427a-9ea8-55336e02916a",
   "metadata": {},
   "source": [
    "### running"
   ]
  },
  {
   "cell_type": "code",
   "execution_count": 10,
   "id": "96f01d23-ddc5-4953-822e-3da87290557c",
   "metadata": {},
   "outputs": [],
   "source": [
    "def hyperparams(df, restr, epsmin, epsmax, mptsmin, mptsmax):\n",
    "    numeps = 5\n",
    "    nummpts = 5\n",
    "#     epsmin=0.001\n",
    "#     epsmax=0.1\n",
    "#     mptsmin=2\n",
    "#     mptsmax=25\n",
    "    \n",
    "    results=[]\n",
    "    \n",
    "    for e in range(numeps):\n",
    "        for p in range(nummpts):\n",
    "            eps = epsmin + (epsmax-epsmin)/numeps*e\n",
    "            mpts = int(mptsmin + (mptsmax-mptsmin)/nummpts*p)\n",
    "            df, restr = readFiles(datafile)\n",
    "            cl,tmp=dbscan(df, restr, euclideanDist, eps, mpts, silent=True)\n",
    "            results.append([eps,mpts,len(cl)])\n",
    "    print(pd.DataFrame(results, columns=[\"epsilon\",\"minPoints\", \"numClusters\"]))"
   ]
  },
  {
   "cell_type": "code",
   "execution_count": 127,
   "id": "46e33fc1-5689-4957-abff-203bb9bcc2db",
   "metadata": {
    "tags": []
   },
   "outputs": [
    {
     "name": "stdout",
     "output_type": "stream",
     "text": [
      "| 0          |        1 |         2 |         3 |        4 |         5 |   cluster |\n",
      "|:-----------|---------:|----------:|----------:|---------:|----------:|----------:|\n",
      "| Horse      | 0.993407 | 0.17094   | 0         | 1        | 0.113636  |         1 |\n",
      "| Orangutan  | 0.958242 | 0.0683761 | 0.0609756 | 0.869565 | 0.0636364 |         1 |\n",
      "| Monkey     | 0.956044 | 0.136752  | 0.0414634 | 0.927536 | 0.0363636 |         1 |\n",
      "| Donkey     | 0.997802 | 0.0940171 | 0.0097561 | 0.898551 | 0.136364  |         1 |\n",
      "| Hippo      | 1        | 0         | 0.0853659 | 0.637681 | 0         |         1 |\n",
      "| Camel      | 0.940659 | 0.247863  | 0.0585366 | 0.695652 | 0.277273  |         1 |\n",
      "| Bison      | 0.923077 | 0.358974  | 0.0170732 | 0.826087 | 0.363636  |         1 |\n",
      "| Buffalo    | 0.817582 | 0.452991  | 0.168293  | 0.681159 | 0.309091  |         2 |\n",
      "| Guinea Pig | 0.813187 | 0.581197  | 0.15122   | 0.391304 | 0.340909  |         2 |\n",
      "| Cat        | 0.806593 | 0.811966  | 0.129268  | 0.637681 | 0.295455  |         2 |\n",
      "| Fox        | 0.806593 | 0.512821  | 0.119512  | 0.710145 | 0.377273  |         2 |\n",
      "| Llama      | 0.914286 | 0.282051  | 0.0536585 | 0.811594 | 0.318182  |         1 |\n",
      "| Mule       | 0.991209 | 0.119658  | 0.0195122 | 0.797101 | 0.168182  |         1 |\n",
      "| Pig        | 0.832967 | 0.555556  | 0.1       | 0.536232 | 0.454545  |         2 |\n",
      "| Zebra      | 0.907692 | 0.205128  | 0.0926829 | 0.768116 | 0.272727  |         1 |\n",
      "| Sheep      | 0.815385 | 0.42735   | 0.131707  | 0.681159 | 0.368182  |         2 |\n",
      "| Dog        | 0.69011  | 0.74359   | 0.207317  | 0.434783 | 0.5       |         3 |\n",
      "| Elephant   | 0.567033 | 0.25641   | 0.404878  | 0.811594 | 0.240909  |         1 |\n",
      "| Rabbit     | 0.58022  | 1         | 0.295122  | 0.275362 | 1         |         0 |\n",
      "| Rat        | 0.606593 | 0.735043  | 0.282927  | 0.478261 | 0.590909  |         3 |\n",
      "| Deer       | 0.461538 | 0.837607  | 0.456098  | 0.376812 | 0.590909  |         0 |\n",
      "| Reindeer   | 0.437363 | 0.863248  | 0.470732  | 0.362319 | 0.590909  |         0 |\n",
      "| Whale      | 0.437363 | 0.897436  | 0.492683  | 0.231884 | 0.340909  |         0 |\n",
      "| Seal       | 0.032967 | 0.777778  | 1         | 0        | 0.340909  |         0 |\n",
      "| Dolphin    | 0        | 0.854701  | 0.826829  | 0.130435 | 0.195455  |         0 |\n",
      "[[0.32490842 0.87179487 0.5902439  0.2294686  0.50984848]\n",
      " [0.92267732 0.17637918 0.0767184  0.82213439 0.18099174]\n",
      " [0.81538462 0.55698006 0.13333333 0.60628019 0.35757576]\n",
      " [0.64835165 0.73931624 0.24512195 0.45652174 0.54545455]]\n"
     ]
    }
   ],
   "source": [
    "k=4\n",
    "\n",
    "sys.argv = f\"dbscan.py ./data/mammal_milk.csv {k}\".split(\" \")\n",
    "if __name__ == \"__main__\":\n",
    "    if len(sys.argv) == 3:\n",
    "        _, datafile, k = sys.argv\n",
    "    else:\n",
    "        print(\"Usage: python3 dbscan.py <datafile.csv> <epsilon> <numPoints>\")\n",
    "        exit(1)\n",
    "        \n",
    "    k = int(k)\n",
    "    df_full, restr = readFiles(datafile)\n",
    "    df = normalizedf(restrictdf(df_full, restr))\n",
    "    centroids = initCentroids(df,k)\n",
    "    df = assignCentroids(df, centroids, euclideanDist)\n",
    "    print(df.to_markdown())    \n",
    "    print(reCalcCentroids(df, centroids))\n"
   ]
  },
  {
   "cell_type": "code",
   "execution_count": null,
   "id": "1e9a3634-d66f-412f-a85b-8966df413634",
   "metadata": {},
   "outputs": [],
   "source": []
  }
 ],
 "metadata": {
  "kernelspec": {
   "display_name": "Python 3",
   "language": "python",
   "name": "python3"
  },
  "language_info": {
   "codemirror_mode": {
    "name": "ipython",
    "version": 3
   },
   "file_extension": ".py",
   "mimetype": "text/x-python",
   "name": "python",
   "nbconvert_exporter": "python",
   "pygments_lexer": "ipython3",
   "version": "3.8.8"
  }
 },
 "nbformat": 4,
 "nbformat_minor": 5
}
