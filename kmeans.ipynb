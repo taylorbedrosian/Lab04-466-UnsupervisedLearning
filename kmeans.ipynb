{
 "cells": [
  {
   "cell_type": "code",
   "execution_count": 1,
   "id": "4da9c75a-ac1c-4194-abeb-41e7e69ab451",
   "metadata": {},
   "outputs": [],
   "source": [
    "import numpy as np\n",
    "import pandas as pd\n",
    "import math\n",
    "import json\n",
    "import sys\n",
    "import time"
   ]
  },
  {
   "cell_type": "markdown",
   "id": "de4b4dfd-0f3f-4b23-a069-94f14cb400f5",
   "metadata": {},
   "source": [
    "### data manipulation"
   ]
  },
  {
   "cell_type": "code",
   "execution_count": 2,
   "id": "91511bfb-ced3-45f5-bc79-e4a12c4153d0",
   "metadata": {},
   "outputs": [],
   "source": [
    "def readFiles(filename):\n",
    "    df = pd.read_csv(datafile, header=None)\n",
    "    \n",
    "    # restrictions are in first row\n",
    "    restr = pd.to_numeric(df.iloc[0])\n",
    "    \n",
    "    # drop metadata columns\n",
    "    df = df.drop([0], axis=0)\n",
    "    \n",
    "    return df, restr"
   ]
  },
  {
   "cell_type": "code",
   "execution_count": 32,
   "id": "5e3daaf2-cfce-461f-90b0-10e2f01871f2",
   "metadata": {},
   "outputs": [],
   "source": [
    "def restrictdf(df, restr, setIndex=False, getDropped=False):\n",
    "    # remove restricted cols and convert to numeric\n",
    "    dropped=pd.DataFrame()\n",
    "    for i, v in enumerate(df.columns):\n",
    "        if restr[i] == 0 and setIndex:\n",
    "            df = df.set_index(df.columns[i])\n",
    "        elif restr[i] < 1:\n",
    "            dropped[v] = df[v]\n",
    "            df = df.drop(columns=[v])\n",
    "        else:\n",
    "            df[v] = pd.to_numeric(df[v], errors='coerce')\n",
    "            \n",
    "    # drop unknown values\n",
    "    df = df.dropna()\n",
    "    df = df[(df != '?').all(axis=1)]\n",
    "    if getDropped:\n",
    "        return df, dropped\n",
    "    return df"
   ]
  },
  {
   "cell_type": "code",
   "execution_count": 4,
   "id": "9409140a-1cd6-4cba-b119-54a1d542ab6b",
   "metadata": {},
   "outputs": [],
   "source": [
    "# normalizes all columns\n",
    "def normalizedf(indf):\n",
    "    df=indf.copy()\n",
    "    for c in df.columns:\n",
    "        colMax = df[c].max()\n",
    "        colMin = df[c].min()\n",
    "        \n",
    "        # probably no need to normalize if the values are very small. Might have to adjust the value\n",
    "#         if colMax < 1:\n",
    "#             continue\n",
    "        df[c] = df[c].apply(lambda x: (x - colMin)/(colMax-colMin))\n",
    "    return df"
   ]
  },
  {
   "cell_type": "markdown",
   "id": "a8c20af3-ab85-4722-b880-b0f4583d0bd0",
   "metadata": {},
   "source": [
    "### helper functions"
   ]
  },
  {
   "cell_type": "code",
   "execution_count": 5,
   "id": "4e3cfafc-b15a-4614-bea2-b5268ce55c90",
   "metadata": {},
   "outputs": [],
   "source": [
    "def euclideanDist(point, pointArray):\n",
    "    return np.sqrt(np.sum((pointArray - point) ** 2, axis=1))"
   ]
  },
  {
   "cell_type": "code",
   "execution_count": 6,
   "id": "e8bc9b11-d113-4d3f-acc6-1137d1881307",
   "metadata": {},
   "outputs": [],
   "source": [
    "def initCentroids(numdf, k):\n",
    "    return np.array(numdf.sample(k))"
   ]
  },
  {
   "cell_type": "code",
   "execution_count": 7,
   "id": "09b917ea-52f7-4c36-996b-479c456871de",
   "metadata": {},
   "outputs": [],
   "source": [
    "# pass a ***vectorized*** distance function: dist(point, pointArray)\n",
    "# dataframe must be numeric other than last column\n",
    "def assignCentroids(numdf, centroids, distfunc):\n",
    "    if df.columns[-1] != 'cluster':\n",
    "        df['cluster'] = -1\n",
    "        \n",
    "    for i, row in df.iloc[:,:-1].iterrows():\n",
    "        df.at[i,'cluster'] = np.argmin(distfunc(row.values, centroids))\n",
    "    return df"
   ]
  },
  {
   "cell_type": "code",
   "execution_count": 8,
   "id": "af350a9e-f88a-4f05-be3e-f56b44f32576",
   "metadata": {},
   "outputs": [],
   "source": [
    "def reCalcCentroids(numdf, centroids):\n",
    "    # centroid index is tag\n",
    "    for i in range(len(centroids)):\n",
    "        cluster = numdf[numdf['cluster'] == i]\n",
    "        centroids[i] = np.mean(np.array(cluster.iloc[:,:-1]), axis=0)\n",
    "    return centroids"
   ]
  },
  {
   "cell_type": "code",
   "execution_count": 9,
   "id": "7fd2b806-e233-4027-be34-76d6d4add18e",
   "metadata": {},
   "outputs": [],
   "source": [
    "def calcSSE(dfarray, c, distFunc):\n",
    "    return np.sum(np.square(distFunc(c, dfarray)))"
   ]
  },
  {
   "cell_type": "code",
   "execution_count": 10,
   "id": "fab4224d-8c0e-4646-93e0-52301050b59f",
   "metadata": {},
   "outputs": [],
   "source": [
    "# takes labeled numeric df\n",
    "def calcTotSSE(numdf, centroids, distFunc):\n",
    "    totSSE=None\n",
    "    for i, c in enumerate(centroids):\n",
    "        cSSE = calcSSE(np.array(numdf[numdf['cluster'] == i].iloc[:,:-1]), c, distFunc)\n",
    "        if totSSE is None:\n",
    "            totSSE = cSSE\n",
    "        else:\n",
    "            totSSE += cSSE\n",
    "    return totSSE"
   ]
  },
  {
   "cell_type": "markdown",
   "id": "241d0320-a23a-4b6d-8e9c-9c6a7b65ff9a",
   "metadata": {},
   "source": [
    "### kmeans "
   ]
  },
  {
   "cell_type": "code",
   "execution_count": 11,
   "id": "5d637814-8580-450d-8ffc-3ad5ba607925",
   "metadata": {},
   "outputs": [],
   "source": [
    "def kmeans_lite(df, centroids, distFunc):\n",
    "    df = assignCentroids(df, centroids, distFunc)\n",
    "    prevSSE = calcTotSSE(df, centroids, distFunc)\n",
    "    \n",
    "    centroids = reCalcCentroids(df, centroids)\n",
    "    df = assignCentroids(df, centroids, distFunc)\n",
    "    currSSE = calcTotSSE(df, centroids, distFunc)\n",
    "    \n",
    "    counter = 0\n",
    "    while counter < 10 and prevSSE - currSSE > 0.01:\n",
    "        centroids = reCalcCentroids(df, centroids)\n",
    "        df = assignCentroids(df, centroids, distFunc)\n",
    "        prevSSE = currSSE\n",
    "        currSSE = calcTotSSE(df, centroids, distFunc)\n",
    "        counter += 1\n",
    "    return df, centroids"
   ]
  },
  {
   "cell_type": "markdown",
   "id": "7ebc6173-9bf9-4e4f-8899-a29c9473b35c",
   "metadata": {},
   "source": [
    "### analytical functions"
   ]
  },
  {
   "cell_type": "code",
   "execution_count": 18,
   "id": "0647ef26-48e6-4682-a3af-4a6305429245",
   "metadata": {},
   "outputs": [],
   "source": [
    "# takes numeric df with cluster labe\n",
    "def analyzeClusters(df, centroids, distFunc):\n",
    "    clusters=[]\n",
    "    for i, c in enumerate(centroids):\n",
    "        info = {}\n",
    "        info[\"clusterID\"] = i\n",
    "        pnts = df[df['cluster'] == i]\n",
    "        \n",
    "        info[\"SSE\"] = calcSSE(np.array(pnts.iloc[:,:-1]), c, distFunc)\n",
    "        info[\"centroid\"] = c\n",
    "        \n",
    "        dists = distFunc(c, np.array(pnts.iloc[:,:-1]))\n",
    "        info[\"maxDistToCentroid\"] = max(dists)\n",
    "        info[\"minDistToCentroid\"] = min(dists)\n",
    "        info[\"avgDistToCentroid\"] = np.sum(dists)/len(pnts)\n",
    "        info[\"numPoints\"] = len(pnts)\n",
    "        info[\"dataPoints\"] = pnts\n",
    "        clusters.append(info)\n",
    "    return clusters"
   ]
  },
  {
   "cell_type": "code",
   "execution_count": 44,
   "id": "adcf7869-aa1a-4ef3-835b-dd6c0fcd8046",
   "metadata": {},
   "outputs": [],
   "source": [
    "def printClusterInfo(clusters, extraCols = None):\n",
    "    for clusterInfo in clusters:\n",
    "        for key in clusterInfo:\n",
    "            if key == \"dataPoints\":\n",
    "                if extraCols is not None:\n",
    "                    clusterInfo[key] = clusterInfo[key].join(extraCols)\n",
    "                print(f\"{key}: \\n{clusterInfo[key].to_markdown()}\")\n",
    "            else:\n",
    "                print(f\"{key}: {clusterInfo[key]}\")\n",
    "        print('\\n')"
   ]
  },
  {
   "cell_type": "markdown",
   "id": "e5aaaa97-0750-427a-9ea8-55336e02916a",
   "metadata": {},
   "source": [
    "### running"
   ]
  },
  {
   "cell_type": "code",
   "execution_count": 14,
   "id": "96f01d23-ddc5-4953-822e-3da87290557c",
   "metadata": {},
   "outputs": [],
   "source": [
    "def hyperparams(df, restr, epsmin, epsmax, mptsmin, mptsmax):\n",
    "    numeps = 5\n",
    "    nummpts = 5\n",
    "#     epsmin=0.001\n",
    "#     epsmax=0.1\n",
    "#     mptsmin=2\n",
    "#     mptsmax=25\n",
    "    \n",
    "    results=[]\n",
    "    \n",
    "    for e in range(numeps):\n",
    "        for p in range(nummpts):\n",
    "            eps = epsmin + (epsmax-epsmin)/numeps*e\n",
    "            mpts = int(mptsmin + (mptsmax-mptsmin)/nummpts*p)\n",
    "            df, restr = readFiles(datafile)\n",
    "            cl,tmp=dbscan(df, restr, euclideanDist, eps, mpts, silent=True)\n",
    "            results.append([eps,mpts,len(cl)])\n",
    "    print(pd.DataFrame(results, columns=[\"epsilon\",\"minPoints\", \"numClusters\"]))"
   ]
  },
  {
   "cell_type": "code",
   "execution_count": 53,
   "id": "46e33fc1-5689-4957-abff-203bb9bcc2db",
   "metadata": {
    "tags": []
   },
   "outputs": [
    {
     "name": "stdout",
     "output_type": "stream",
     "text": [
      "clusterID: 0\n",
      "SSE: 92.0\n",
      "centroid: [41 41]\n",
      "maxDistToCentroid: 4.123105625617661\n",
      "minDistToCentroid: 0.0\n",
      "avgDistToCentroid: 2.9526858963530653\n",
      "numPoints: 9\n",
      "dataPoints: \n",
      "|    |   0 |   1 |   cluster |\n",
      "|---:|----:|----:|----------:|\n",
      "|  1 |  41 |  45 |         0 |\n",
      "|  2 |  39 |  44 |         0 |\n",
      "|  3 |  42 |  43 |         0 |\n",
      "|  4 |  44 |  43 |         0 |\n",
      "|  6 |  38 |  42 |         0 |\n",
      "|  8 |  41 |  41 |         0 |\n",
      "| 10 |  45 |  40 |         0 |\n",
      "| 12 |  38 |  39 |         0 |\n",
      "| 13 |  42 |  39 |         0 |\n",
      "\n",
      "\n",
      "clusterID: 1\n",
      "SSE: 18.0\n",
      "centroid: [22 38]\n",
      "maxDistToCentroid: 3.0\n",
      "minDistToCentroid: 3.0\n",
      "avgDistToCentroid: 3.0\n",
      "numPoints: 2\n",
      "dataPoints: \n",
      "|    |   0 |   1 |   cluster |\n",
      "|---:|----:|----:|----------:|\n",
      "| 16 |  19 |  38 |         1 |\n",
      "| 17 |  25 |  38 |         1 |\n",
      "\n",
      "\n",
      "clusterID: 2\n",
      "SSE: 143.0\n",
      "centroid: [ 9 37]\n",
      "maxDistToCentroid: 5.0990195135927845\n",
      "minDistToCentroid: 1.0\n",
      "avgDistToCentroid: 3.5927606566243875\n",
      "numPoints: 10\n",
      "dataPoints: \n",
      "|    |   0 |   1 |   cluster |\n",
      "|---:|----:|----:|----------:|\n",
      "|  5 |  10 |  42 |         2 |\n",
      "|  7 |   8 |  41 |         2 |\n",
      "|  9 |  13 |  40 |         2 |\n",
      "| 11 |   7 |  39 |         2 |\n",
      "| 14 |   9 |  38 |         2 |\n",
      "| 15 |  12 |  38 |         2 |\n",
      "| 18 |   6 |  37 |         2 |\n",
      "| 19 |  13 |  35 |         2 |\n",
      "| 20 |   9 |  34 |         2 |\n",
      "| 21 |  12 |  34 |         2 |\n",
      "\n",
      "\n",
      "clusterID: 3\n",
      "SSE: 1166.0\n",
      "centroid: [33 17]\n",
      "maxDistToCentroid: 12.083045973594572\n",
      "minDistToCentroid: 2.23606797749979\n",
      "avgDistToCentroid: 7.587026637421161\n",
      "numPoints: 18\n",
      "dataPoints: \n",
      "|    |   0 |   1 |   cluster |\n",
      "|---:|----:|----:|----------:|\n",
      "| 22 |  32 |  27 |         3 |\n",
      "| 23 |  26 |  25 |         3 |\n",
      "| 24 |  39 |  24 |         3 |\n",
      "| 25 |  34 |  23 |         3 |\n",
      "| 26 |  37 |  23 |         3 |\n",
      "| 27 |  22 |  22 |         3 |\n",
      "| 28 |  38 |  21 |         3 |\n",
      "| 29 |  35 |  20 |         3 |\n",
      "| 30 |  31 |  18 |         3 |\n",
      "| 31 |  26 |  16 |         3 |\n",
      "| 32 |  31 |  13 |         3 |\n",
      "| 33 |  26 |  16 |         3 |\n",
      "| 34 |  38 |  13 |         3 |\n",
      "| 35 |  29 |  11 |         3 |\n",
      "| 36 |  34 |  11 |         3 |\n",
      "| 37 |  37 |  10 |         3 |\n",
      "| 38 |  40 |   9 |         3 |\n",
      "| 39 |  42 |   9 |         3 |\n",
      "\n",
      "\n"
     ]
    },
    {
     "data": {
      "image/png": "[encoded data removed]",
      "text/plain": [
       "<Figure size 432x288 with 2 Axes>"
      ]
     },
     "metadata": {
      "needs_background": "light"
     },
     "output_type": "display_data"
    }
   ],
   "source": [
    "k=4\n",
    "\n",
    "sys.argv = f\"dbscan.py ./data/4clusters.csv {k}\".split(\" \")\n",
    "if __name__ == \"__main__\":\n",
    "    if len(sys.argv) == 3:\n",
    "        _, datafile, k = sys.argv\n",
    "    else:\n",
    "        print(\"Usage: python3 dbscan.py <datafile.csv> <epsilon> <numPoints>\")\n",
    "        exit(1)\n",
    "        \n",
    "    k = int(k)\n",
    "    df_full, restr = readFiles(datafile)\n",
    "    df, dropped = restrictdf(df_full, restr, getDropped=True)\n",
    "    df = df\n",
    "    centroids = initCentroids(df,k)\n",
    "    df, centroids = kmeans_lite(df, centroids, euclideanDist)\n",
    "    df.plot.scatter(x=0,y=1,c='cluster',colormap='viridis')    \n",
    "#     print(dropped)\n",
    "#     df = df.join(dropped)\n",
    "#     print(df.to_markdown())\n",
    "    printClusterInfo(analyzeClusters(df, centroids, euclideanDist), extraCols = dropped)"
   ]
  },
  {
   "cell_type": "code",
   "execution_count": null,
   "id": "1e9a3634-d66f-412f-a85b-8966df413634",
   "metadata": {},
   "outputs": [],
   "source": []
  }
 ],
 "metadata": {
  "kernelspec": {
   "display_name": "Python 3",
   "language": "python",
   "name": "python3"
  },
  "language_info": {
   "codemirror_mode": {
    "name": "ipython",
    "version": 3
   },
   "file_extension": ".py",
   "mimetype": "text/x-python",
   "name": "python",
   "nbconvert_exporter": "python",
   "pygments_lexer": "ipython3",
   "version": "3.8.8"
  }
 },
 "nbformat": 4,
 "nbformat_minor": 5
}
