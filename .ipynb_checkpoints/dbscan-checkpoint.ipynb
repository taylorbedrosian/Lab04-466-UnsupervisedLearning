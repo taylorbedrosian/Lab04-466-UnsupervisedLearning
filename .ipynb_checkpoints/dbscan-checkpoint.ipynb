{
 "cells": [
  {
   "cell_type": "code",
   "execution_count": 1,
   "id": "4da9c75a-ac1c-4194-abeb-41e7e69ab451",
   "metadata": {},
   "outputs": [],
   "source": [
    "import numpy as np\n",
    "import pandas as pd\n",
    "import math\n",
    "import json\n",
    "import sys\n",
    "import time"
   ]
  },
  {
   "cell_type": "markdown",
   "id": "de4b4dfd-0f3f-4b23-a069-94f14cb400f5",
   "metadata": {},
   "source": [
    "### data manipulation"
   ]
  },
  {
   "cell_type": "code",
   "execution_count": 2,
   "id": "91511bfb-ced3-45f5-bc79-e4a12c4153d0",
   "metadata": {},
   "outputs": [],
   "source": [
    "def readFiles(filename):\n",
    "    df = pd.read_csv(datafile, header=None)\n",
    "    \n",
    "    # restrictions are in first row\n",
    "    restr = pd.to_numeric(df.iloc[0])\n",
    "    \n",
    "    # drop metadata columns\n",
    "    df = df.drop([0], axis=0)\n",
    "    \n",
    "    return df, restr"
   ]
  },
  {
   "cell_type": "code",
   "execution_count": 3,
   "id": "5e3daaf2-cfce-461f-90b0-10e2f01871f2",
   "metadata": {},
   "outputs": [],
   "source": [
    "def restrictdf(df, restr):\n",
    "    # remove restricted cols and convert to numeric\n",
    "    for i, v in enumerate(df.columns):\n",
    "        if restr[i] < 1:\n",
    "            df = df.drop(columns=[v])\n",
    "        else:\n",
    "            df[v] = pd.to_numeric(df[v], errors='coerce')\n",
    "            \n",
    "    # drop unknown values\n",
    "    df = df.dropna()\n",
    "    df = df[(df != '?').all(axis=1)]\n",
    "    return df"
   ]
  },
  {
   "cell_type": "code",
   "execution_count": 4,
   "id": "9409140a-1cd6-4cba-b119-54a1d542ab6b",
   "metadata": {},
   "outputs": [],
   "source": [
    "# normalizes all columns\n",
    "def normalizedf(indf):\n",
    "    df=indf.copy()\n",
    "    for c in df.columns:\n",
    "        colMax = df[c].max()\n",
    "        colMin = df[c].min()\n",
    "        \n",
    "        # probably no need to normalize if the values are very small. Might have to adjust the value\n",
    "#         if colMax < 1:\n",
    "#             continue\n",
    "        df[c] = df[c].apply(lambda x: (x - colMin)/(colMax-colMin))\n",
    "    return df"
   ]
  },
  {
   "cell_type": "markdown",
   "id": "a8c20af3-ab85-4722-b880-b0f4583d0bd0",
   "metadata": {},
   "source": [
    "### helper functions"
   ]
  },
  {
   "cell_type": "code",
   "execution_count": 5,
   "id": "4e3cfafc-b15a-4614-bea2-b5268ce55c90",
   "metadata": {},
   "outputs": [],
   "source": [
    "def euclideanDist(point, pointArray):\n",
    "    return np.sqrt(np.sum((pointArray - point) ** 2, axis=1))"
   ]
  },
  {
   "cell_type": "code",
   "execution_count": 6,
   "id": "e9e0dc6c-2329-4a4e-9c3e-00f76392ebd0",
   "metadata": {},
   "outputs": [],
   "source": [
    "# pass a ***vectorized*** distance function: dist(point, pointArray)\n",
    "def calcDistMatrix(df, distFunctionVect):\n",
    "    # must be fully numeric and normalized df\n",
    "    dfarray = np.array(df)\n",
    "    \n",
    "    distMatrix = []\n",
    "    for i, d in enumerate(dfarray):\n",
    "        # performs Euclidean distance on all elements in data (vectorized)\n",
    "        dists = distFunctionVect(dfarray[i], dfarray)\n",
    "        distMatrix.append(dists)\n",
    "    \n",
    "    return pd.DataFrame(distMatrix)"
   ]
  },
  {
   "cell_type": "code",
   "execution_count": 7,
   "id": "3cb135e6-6dc5-4f0d-bf13-d935b4582d95",
   "metadata": {
    "tags": []
   },
   "outputs": [],
   "source": [
    "def calcNeighborhoods(distMatrix, epsilon):    \n",
    "    # iterating through a dictionary is much faster\n",
    "    dfdict = distMatrix.to_dict('records')\n",
    "    \n",
    "    # Sorry, had to do this in one line, filters each row by epsilon\n",
    "    # k+1 as index in these datasets starts at 1\n",
    "    return [[k+1 for (k,v) in row.items() if v <= epsilon] for row in dfdict]"
   ]
  },
  {
   "cell_type": "code",
   "execution_count": 8,
   "id": "0036f64b-9af7-472f-9e76-bb07a29cbae5",
   "metadata": {},
   "outputs": [],
   "source": [
    "def calcCorePoints(neighborhoods, minpts):\n",
    "    # > because the point itself should be excluded\n",
    "    return [i+1 for i, v in enumerate(neighborhoods) if len(v) > minpts]"
   ]
  },
  {
   "cell_type": "code",
   "execution_count": 9,
   "id": "45f2d0ed-5825-4fb4-82d2-44275b51158b",
   "metadata": {},
   "outputs": [],
   "source": [
    "def densityConnected(df, pntId, neighborhoods, cores, currCluster):\n",
    "    # visit each unvisited neigh, and their neighbors if core. DFS \n",
    "    # update visited, clusterid, and type\n",
    "    \n",
    "    if df.at[pntId, \"visited\"]:\n",
    "        return\n",
    "    df.at[pntId, \"visited\"] = True\n",
    "    for neigh in neighborhoods[pntId-1]:\n",
    "        if not df.at[neigh, \"visited\"]:\n",
    "            df.at[neigh, \"cluster\"] = currCluster\n",
    "            if neigh in cores:\n",
    "                # continue density connectivity\n",
    "                df.at[neigh, \"type\"] = \"core\"\n",
    "                densityConnected(df, neigh, neighborhoods, cores, currCluster)\n",
    "            else:\n",
    "                df.at[neigh, \"visited\"] = True\n",
    "                df.at[neigh, \"type\"] = \"boundary\""
   ]
  },
  {
   "cell_type": "markdown",
   "id": "7ebc6173-9bf9-4e4f-8899-a29c9473b35c",
   "metadata": {},
   "source": [
    "### analytical functions"
   ]
  },
  {
   "cell_type": "code",
   "execution_count": 10,
   "id": "34e13ef8-8aee-4b94-9048-ec5553920546",
   "metadata": {},
   "outputs": [],
   "source": [
    "# gets centroid of numeric dataframe (not normalized)\n",
    "def calcCentroid(numdf):\n",
    "    return np.divide(np.sum(np.array(numdf), axis=0),len(numdf))"
   ]
  },
  {
   "cell_type": "code",
   "execution_count": 11,
   "id": "0647ef26-48e6-4682-a3af-4a6305429245",
   "metadata": {},
   "outputs": [],
   "source": [
    "# takes df ran through dbscan with visited, cluster, and type columns\n",
    "def analyzeClusters(df, numdf, distFunc):\n",
    "    clusters=[]\n",
    "    for i, c in enumerate(df['cluster'].unique()):\n",
    "        info = {}\n",
    "        info[\"clusterID\"] = i\n",
    "        if c is None:\n",
    "            pnts = df.loc[df['cluster'].isna()]\n",
    "            info[\"type\"] = \"Noise\"\n",
    "        else:\n",
    "            pnts = df[df['cluster'] == c]\n",
    "            info[\"type\"] = \"Cluster\"\n",
    "        \n",
    "        numpnts = numdf.loc[pnts.index]\n",
    "        \n",
    "        info[\"centroid\"] = calcCentroid(numpnts)\n",
    "        dists = distFunc(info[\"centroid\"], np.array(numpnts))\n",
    "        df.loc[pnts.index, \"distToCentroid\"] = dists\n",
    "        pnts = df.loc[pnts.index]\n",
    "        info[\"maxDistToCentroid\"] = max(dists)\n",
    "        info[\"minDistToCentroid\"] = min(dists)\n",
    "        info[\"avgDistToCentroid\"] = np.sum(dists)/len(pnts)\n",
    "        info[\"numPoints\"] = len(pnts)\n",
    "        info[\"dataPoints\"] = pnts\n",
    "        clusters.append(info)\n",
    "    return clusters"
   ]
  },
  {
   "cell_type": "code",
   "execution_count": 12,
   "id": "adcf7869-aa1a-4ef3-835b-dd6c0fcd8046",
   "metadata": {},
   "outputs": [],
   "source": [
    "def printClusterInfo(clusters):\n",
    "    for clusterInfo in clusters:\n",
    "        for key in clusterInfo:\n",
    "            if key == \"dataPoints\":\n",
    "                print(f\"{key}: \\n{clusterInfo[key].to_markdown()}\")\n",
    "            else:\n",
    "                print(f\"{key}: {clusterInfo[key]}\")\n",
    "        print('\\n')"
   ]
  },
  {
   "cell_type": "markdown",
   "id": "02322fbe-ed42-40ce-9afb-5f0c18be1df2",
   "metadata": {},
   "source": [
    "### dbscan functions"
   ]
  },
  {
   "cell_type": "code",
   "execution_count": 13,
   "id": "d5db4301-a662-4c62-ae7f-f84373a5450e",
   "metadata": {},
   "outputs": [],
   "source": [
    "def dbscan_lite(df, neighborhoods, cores):\n",
    "    df[\"visited\"] = False\n",
    "    df[\"cluster\"] = None\n",
    "    df[\"type\"] = \"Noise\"\n",
    "    \n",
    "    currCluster=0\n",
    "    for c in cores:\n",
    "        if not df.at[c, \"visited\"]:\n",
    "            df.at[c, \"type\"] = \"core\"\n",
    "            df.at[c, \"cluster\"] = currCluster \n",
    "            densityConnected(df, c, neighborhoods, cores, currCluster)\n",
    "            currCluster += 1\n",
    "    \n",
    "    return df"
   ]
  },
  {
   "cell_type": "code",
   "execution_count": 14,
   "id": "a5950c4c-613e-4efd-a6bf-071893539a4e",
   "metadata": {},
   "outputs": [],
   "source": [
    "def dbscan(indf, restr, distFunc, epsilon, minpnts, silent=False):\n",
    "    df=indf.copy()\n",
    "    numdf = restrictdf(df,restr)\n",
    "    distMatrix = calcDistMatrix(normalizedf(numdf), distFunc)\n",
    "    neighborhoods = calcNeighborhoods(distMatrix, epsilon)\n",
    "    cores = calcCorePoints(neighborhoods, minpnts)\n",
    "    \n",
    "    df = dbscan_lite(df, neighborhoods, cores)\n",
    "    \n",
    "    clusters = analyzeClusters(df, numdf, distFunc)\n",
    "    if not silent:\n",
    "        print(f\"Epsilon: {epsilon}, Min Points: {minpnts}\")\n",
    "        printClusterInfo(clusters)\n",
    "    return clusters, df"
   ]
  },
  {
   "cell_type": "markdown",
   "id": "e5aaaa97-0750-427a-9ea8-55336e02916a",
   "metadata": {},
   "source": [
    "### running"
   ]
  },
  {
   "cell_type": "code",
   "execution_count": 31,
   "id": "96f01d23-ddc5-4953-822e-3da87290557c",
   "metadata": {},
   "outputs": [],
   "source": [
    "def hyperparams(df, restr, epsmin, epsmax, mptsmin, mptsmax):\n",
    "    numeps = 10\n",
    "    nummpts = 10\n",
    "#     epsmin=0.001\n",
    "#     epsmax=0.1\n",
    "#     mptsmin=2\n",
    "#     mptsmax=25\n",
    "    \n",
    "    results=[]\n",
    "    \n",
    "    for e in range(numeps):\n",
    "        for p in range(nummpts):\n",
    "            eps = epsmin + (epsmax-epsmin)/numeps*e\n",
    "            mpts = int(mptsmin + (mptsmax-mptsmin)/nummpts*p)\n",
    "            df, restr = readFiles(datafile)\n",
    "            cl, tmp=dbscan(df, restr, euclideanDist, eps, mpts, silent=True)\n",
    "            noiseLen = None\n",
    "            for c in cl:\n",
    "                if c[\"type\"] == \"Noise\":\n",
    "                    noiseLen=len(c[\"dataPoints\"])\n",
    "            results.append([eps,mpts,len(cl) - 1,noiseLen])\n",
    "    return pd.DataFrame(results, columns=[\"epsilon\",\"minPoints\", \"numClusters\", \"numNoisePts\"])"
   ]
  },
  {
   "cell_type": "code",
   "execution_count": 32,
   "id": "46e33fc1-5689-4957-abff-203bb9bcc2db",
   "metadata": {
    "tags": []
   },
   "outputs": [],
   "source": [
    "eps=0.2\n",
    "mpts=40\n",
    "\n",
    "sys.argv = f\"dbscan.py ./data/4clusters.csv {eps} {mpts}\".split(\" \")\n",
    "if __name__ == \"__main__\":\n",
    "    if len(sys.argv) == 4:\n",
    "        _, datafile, epsilon, minpts = sys.argv\n",
    "    else:\n",
    "        print(\"Usage: python3 dbscan.py <datafile.csv> <epsilon> <numPoints>\")\n",
    "        exit(1)\n",
    "        \n",
    "    minpts = float(minpts)\n",
    "    epsilon = float(epsilon)\n",
    "    \n",
    "    df, restr = readFiles(datafile)\n",
    "    \n",
    "    hyp = hyperparams(df, restr, 0.1, 0.25, 2, 12)  "
   ]
  },
  {
   "cell_type": "code",
   "execution_count": 37,
   "id": "ed2bd1d2-184d-4e46-aa90-c3a20a2df22a",
   "metadata": {},
   "outputs": [
    {
     "name": "stdout",
     "output_type": "stream",
     "text": [
      "|    |   epsilon |   minPoints |   numClusters |   numNoisePts |\n",
      "|---:|----------:|------------:|--------------:|--------------:|\n",
      "|  0 |     0.1   |           2 |             4 |             8 |\n",
      "|  1 |     0.1   |           3 |             4 |            13 |\n",
      "| 10 |     0.115 |           2 |             4 |             8 |\n",
      "| 11 |     0.115 |           3 |             4 |            11 |\n",
      "| 20 |     0.13  |           2 |             4 |             6 |\n",
      "| 21 |     0.13  |           3 |             4 |             6 |\n",
      "| 22 |     0.13  |           4 |             4 |             8 |\n",
      "| 32 |     0.145 |           4 |             4 |             4 |\n",
      "| 54 |     0.175 |           6 |             4 |             6 |\n",
      "| 64 |     0.19  |           6 |             4 |             5 |\n"
     ]
    },
    {
     "data": {
      "text/plain": [
       "<AxesSubplot:xlabel='0', ylabel='1'>"
      ]
     },
     "execution_count": 37,
     "metadata": {},
     "output_type": "execute_result"
    },
    {
     "data": {
      "image/png": "[encoded data removed]",
      "text/plain": [
       "<Figure size 432x288 with 2 Axes>"
      ]
     },
     "metadata": {
      "needs_background": "light"
     },
     "output_type": "display_data"
    }
   ],
   "source": [
    "print(hyp[hyp['numClusters'] == 4].to_markdown())\n",
    "cl, tdf = dbscan(df, restr, euclideanDist, 0.145, 4, silent=True)\n",
    "tdf.plot.scatter(x=0,y=1,c='cluster',colormap='viridis')"
   ]
  },
  {
   "cell_type": "code",
   "execution_count": 18,
   "id": "a38bcbb3-010c-41cd-98cf-baa7116c3ecf",
   "metadata": {},
   "outputs": [
    {
     "data": {
      "text/plain": [
       "<AxesSubplot:xlabel='numClusters', ylabel='numNoisePts'>"
      ]
     },
     "execution_count": 18,
     "metadata": {},
     "output_type": "execute_result"
    },
    {
     "data": {
      "image/png": "[encoded data removed]",
      "text/plain": [
       "<Figure size 432x288 with 2 Axes>"
      ]
     },
     "metadata": {
      "needs_background": "light"
     },
     "output_type": "display_data"
    }
   ],
   "source": [
    "plt = hyp.plot.scatter(x='epsilon', y='numNoisePts', s='numClusters', c='minPoints', colormap='viridis')\n",
    "plt.set_xlabel('numClusters')\n",
    "plt"
   ]
  }
 ],
 "metadata": {
  "kernelspec": {
   "display_name": "Python 3",
   "language": "python",
   "name": "python3"
  },
  "language_info": {
   "codemirror_mode": {
    "name": "ipython",
    "version": 3
   },
   "file_extension": ".py",
   "mimetype": "text/x-python",
   "name": "python",
   "nbconvert_exporter": "python",
   "pygments_lexer": "ipython3",
   "version": "3.8.8"
  }
 },
 "nbformat": 4,
 "nbformat_minor": 5
}
