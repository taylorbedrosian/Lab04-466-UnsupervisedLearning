{
 "cells": [
  {
   "cell_type": "code",
   "execution_count": 1,
   "id": "4da9c75a-ac1c-4194-abeb-41e7e69ab451",
   "metadata": {},
   "outputs": [],
   "source": [
    "import numpy as np\n",
    "import pandas as pd\n",
    "import math\n",
    "import json\n",
    "import sys\n",
    "import time"
   ]
  },
  {
   "cell_type": "code",
   "execution_count": 5,
   "id": "4e3cfafc-b15a-4614-bea2-b5268ce55c90",
   "metadata": {},
   "outputs": [],
   "source": [
    "def euclideanDist(point, pointArray):\n",
    "    return np.sqrt(np.sum((pointArray - point) ** 2, axis=1))"
   ]
  },
  {
   "cell_type": "code",
   "execution_count": 6,
   "id": "e9e0dc6c-2329-4a4e-9c3e-00f76392ebd0",
   "metadata": {},
   "outputs": [],
   "source": [
    "# pass a ***vectorized*** distance function: dist(point, pointArray)\n",
    "def calcDistMatrix(df, distFunctionVect):\n",
    "    # All but last three columns (visited, cluster, and type labels)\n",
    "    dfarray = np.array(df.iloc[:,:-3])\n",
    "    \n",
    "    distMatrix = []\n",
    "    for i, d in enumerate(dfarray):\n",
    "        # performs Euclidean distance on all elements in data (vectorized)\n",
    "        dists = distFunctionVect(dfarray[i], dfarray)\n",
    "        distMatrix.append(dists)\n",
    "    \n",
    "    return pd.DataFrame(distMatrix)"
   ]
  },
  {
   "cell_type": "code",
   "execution_count": 7,
   "id": "3cb135e6-6dc5-4f0d-bf13-d935b4582d95",
   "metadata": {
    "tags": []
   },
   "outputs": [],
   "source": [
    "def calcNeighborhoods(distMatrix, epsilon):    \n",
    "    # iterating through a dictionary is much faster\n",
    "    dfdict = distMatrix.to_dict('records')\n",
    "    \n",
    "    # Sorry, had to do this in one line, filters each row by epsilon\n",
    "    # k+1 as index in these datasets starts at 1\n",
    "    return [[k+1 for (k,v) in row.items() if v <= epsilon] for row in dfdict]"
   ]
  },
  {
   "cell_type": "code",
   "execution_count": 14,
   "id": "0036f64b-9af7-472f-9e76-bb07a29cbae5",
   "metadata": {},
   "outputs": [],
   "source": [
    "def calcCorePoints(neighborhoods, minpts):\n",
    "    # > because the point itself should be excluded\n",
    "    return [i+1 for i, v in enumerate(neighborhoods) if len(v) > minpts]"
   ]
  },
  {
   "cell_type": "code",
   "execution_count": 54,
   "id": "45f2d0ed-5825-4fb4-82d2-44275b51158b",
   "metadata": {},
   "outputs": [],
   "source": [
    "def densityConnected(df, pntId, neighborhoods, cores, currCluster):\n",
    "    # visit each unvisited neigh, and their neighbors if core. DFS \n",
    "    # update visited, clusterid, and type\n",
    "    \n",
    "    if df.at[pntId, \"visited\"]:\n",
    "        return\n",
    "    df.at[pntId, \"visited\"] = True\n",
    "    for neigh in neighborhoods[pntId-1]:\n",
    "        if not df.at[neigh, \"visited\"]:\n",
    "            df.at[neigh, \"cluster\"] = currCluster\n",
    "            if neigh in cores:\n",
    "                # continue density connectivity\n",
    "                df.at[neigh, \"type\"] = \"core\"\n",
    "                densityConnected(df, neigh, neighborhoods, cores, currCluster)\n",
    "            else:\n",
    "                df.at[neigh, \"visited\"] = True\n",
    "                df.at[neigh, \"type\"] = \"boundary\""
   ]
  },
  {
   "cell_type": "code",
   "execution_count": 73,
   "id": "2d7cb022-f852-4aa4-b149-0549e77109fe",
   "metadata": {},
   "outputs": [],
   "source": [
    "def dbscan(df, distFunc, epsilon, minpnts):\n",
    "    distMatrix = calcDistMatrix(df, euclideanDist)\n",
    "    neighborhoods = calcNeighborhoods(distMatrix, epsilon)\n",
    "    cores = calcCorePoints(neighborhoods, minpts)\n",
    "    currCluster=0\n",
    "    \n",
    "    for c in cores:\n",
    "        if not df.at[c, \"visited\"]:\n",
    "            df.at[c, \"type\"] = \"core\"\n",
    "            df.at[c, \"cluster\"] = currCluster \n",
    "            densityConnected(df, c, neighborhoods, cores, currCluster)\n",
    "            currCluster += 1\n",
    "    \n",
    "    clusters=[]\n",
    "    for c in df['cluster'].unique():\n",
    "        pnts = list(df[df['cluster'] == c].index)\n",
    "        info = {\n",
    "            \"points\": pnts,\n",
    "            \"numPoints\": len(pnts)\n",
    "        }\n",
    "        clusters.append(info)\n",
    "    return clusters"
   ]
  },
  {
   "cell_type": "code",
   "execution_count": 2,
   "id": "9409140a-1cd6-4cba-b119-54a1d542ab6b",
   "metadata": {},
   "outputs": [],
   "source": [
    "# normalizes all columns\n",
    "def normalizeDf(df):\n",
    "    for c in df.columns:\n",
    "        colMax = df[c].max()\n",
    "        colMin = df[c].min()\n",
    "        \n",
    "        # probably no need to normalize if the values are very small. Might have to adjust the value\n",
    "#         if colMax < 1:\n",
    "#             continue\n",
    "        df[c] = df[c].apply(lambda x: (x - colMin)/(colMax-colMin))\n",
    "    return df"
   ]
  },
  {
   "cell_type": "code",
   "execution_count": 74,
   "id": "91511bfb-ced3-45f5-bc79-e4a12c4153d0",
   "metadata": {},
   "outputs": [],
   "source": [
    "def readFiles(filename):\n",
    "    df = pd.read_csv(datafile, header=None)\n",
    "    \n",
    "    # restrictions are in first row\n",
    "    restr = pd.to_numeric(df.iloc[0])\n",
    "    \n",
    "    # drop metadata columns\n",
    "    df = df.drop([0], axis=0)\n",
    "    \n",
    "    # drop columns that are specified in restriction file\n",
    "    for i, v in enumerate(df.columns):\n",
    "        if restr[i] < 1:\n",
    "            df = df.drop(columns=[v])\n",
    "        else:\n",
    "            df[v] = pd.to_numeric(df[v], errors='coerce')\n",
    "    \n",
    "    # cleanup numeric columns, converting from strings\n",
    "   \n",
    "    \n",
    "    # drop unknown values\n",
    "    df = df.dropna()\n",
    "    df = df[(df != '?').all(axis=1)]\n",
    "    \n",
    "    df = normalizeDf(df)\n",
    "    df[\"visited\"] = False\n",
    "    df[\"cluster\"] = None\n",
    "    df[\"type\"] = \"Noise\"\n",
    "    return df"
   ]
  },
  {
   "cell_type": "code",
   "execution_count": 80,
   "id": "b40e2773-7b13-45e7-bbd4-5545af50c647",
   "metadata": {},
   "outputs": [
    {
     "name": "stdout",
     "output_type": "stream",
     "text": [
      "points : [1, 2, 3, 4, 5, 6, 7, 8, 9, 10, 11, 12, 13, 14, 15, 16, 17, 18, 19, 20, 21, 22, 23, 24, 25, 26, 27, 28, 29, 30, 31, 32, 33, 34, 35, 36, 37, 38, 39, 40, 41, 42, 43, 44, 45, 46, 47, 48, 49, 50]\n",
      "numPoints : 50\n",
      "\n",
      "points : [51, 52, 53, 54, 55, 56, 57, 58, 59, 60, 61, 62, 63, 64, 65, 66, 67, 68, 69, 70, 71, 72, 73, 74, 75, 76, 77, 78, 79, 80, 81, 82, 83, 84, 85, 86, 87, 88, 89, 90, 91, 92, 93, 94, 95, 96, 97, 98, 99, 100, 101, 102, 103, 104, 105, 106, 107, 108, 109, 110, 111, 112, 113, 114, 115, 116, 117, 118, 119, 120, 121, 122, 123, 124, 125, 126, 127, 128, 129, 130, 131, 132, 133, 134, 135, 136, 137, 138, 139, 140, 141, 142, 143, 144, 145, 146, 147, 148, 149, 150]\n",
      "numPoints : 100\n",
      "\n"
     ]
    }
   ],
   "source": [
    "sys.argv = \"dbscan.py ./data/iris.csv 0.4 40\".split(\" \")\n",
    "if __name__ == \"__main__\":\n",
    "    if len(sys.argv) == 4:\n",
    "        _, datafile, epsilon, minpts = sys.argv\n",
    "    else:\n",
    "        print(\"Usage: python3 dbscan.py <datafile.csv> <epsilon> <numPoints>\")\n",
    "        exit(1)\n",
    "    minpts = float(minpts)\n",
    "    epsilon = float(epsilon)\n",
    "    df = readFiles(datafile)\n",
    "    \n",
    "    clusters = dbscan(df, euclideanDist, epsilon, minpts)\n",
    "    for c in clusters:\n",
    "        for k in c:\n",
    "            print(k,':',c[k])\n",
    "        print()"
   ]
  }
 ],
 "metadata": {
  "kernelspec": {
   "display_name": "Python 3",
   "language": "python",
   "name": "python3"
  },
  "language_info": {
   "codemirror_mode": {
    "name": "ipython",
    "version": 3
   },
   "file_extension": ".py",
   "mimetype": "text/x-python",
   "name": "python",
   "nbconvert_exporter": "python",
   "pygments_lexer": "ipython3",
   "version": "3.8.8"
  }
 },
 "nbformat": 4,
 "nbformat_minor": 5
}
