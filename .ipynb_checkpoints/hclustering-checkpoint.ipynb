{
 "cells": [
  {
   "cell_type": "code",
   "execution_count": 10,
   "metadata": {},
   "outputs": [],
   "source": [
    "import pandas as pd \n",
    "import numpy as np\n",
    "import math"
   ]
  },
  {
   "cell_type": "code",
   "execution_count": 11,
   "metadata": {},
   "outputs": [],
   "source": [
    "def read_file(file):\n",
    "    df = pd.read_csv(file, header=None)\n",
    "    for column in df.columns:\n",
    "        if int(column) == 0:\n",
    "            df.drop(column, axis=1)\n",
    "    shrunk_df = df.drop([0], axis=0)\n",
    "    return shrunk_df"
   ]
  },
  {
   "cell_type": "code",
   "execution_count": 12,
   "metadata": {},
   "outputs": [],
   "source": [
    "df = read_file(\"data/4clusters.csv\")"
   ]
  },
  {
   "cell_type": "markdown",
   "metadata": {},
   "source": [
    "### Create Dist Matrix"
   ]
  },
  {
   "cell_type": "code",
   "execution_count": 13,
   "metadata": {},
   "outputs": [],
   "source": [
    "def euclideanDist(point, pointArray):\n",
    "    return np.sqrt(np.sum((pointArray - point) ** 2, axis=1))"
   ]
  },
  {
   "cell_type": "code",
   "execution_count": 14,
   "metadata": {},
   "outputs": [],
   "source": [
    "def calcDistMatrix(df, distFunctionVect):\n",
    "    # must be fully numeric and normalized df\n",
    "    dfarray = np.array(df)\n",
    "    \n",
    "    distMatrix = []\n",
    "    for i, d in enumerate(dfarray):\n",
    "        # performs Euclidean distance on all elements in data (vectorized)\n",
    "        dists = distFunctionVect(dfarray[i], dfarray)\n",
    "        distMatrix.append(dists)\n",
    "    \n",
    "    return pd.DataFrame(distMatrix)"
   ]
  },
  {
   "cell_type": "code",
   "execution_count": 15,
   "metadata": {},
   "outputs": [],
   "source": [
    "dist_matrix = calcDistMatrix(df, euclideanDist)"
   ]
  },
  {
   "cell_type": "code",
   "execution_count": 16,
   "metadata": {},
   "outputs": [],
   "source": [
    "class Leaf:\n",
    "    def __init__(self, data):\n",
    "        self.n_type = 'leaf'\n",
    "        self.height = 0\n",
    "        self.data = data\n",
    "\n",
    "    def __repr__(self):\n",
    "        return f\"type: {self.n_type}, height: {self.height}, data: {self.data}\"\n",
    "\n",
    "    def to_dict(self):\n",
    "        json_dict = {}\n",
    "        json_dict[\"type\"] = self.n_type\n",
    "        json_dict[\"height\"] = self.height\n",
    "        json_dict[\"data\"] = self.data\n",
    "        return json_dict\n",
    "\n",
    "class Node:\n",
    "    def __init__(self, n_type, height, nodes):\n",
    "        self.n_type = n_type\n",
    "        self.height = height\n",
    "        self.nodes = nodes\n",
    "\n",
    "    def __repr__(self):\n",
    "        return f\"type: {self.n_type}, height: {self.height}, nodes: {self.nodes}\"\n",
    "\n",
    "    def to_dict(self):\n",
    "        json_dict = {}\n",
    "        json_dict[\"type\"] = self.n_type\n",
    "        json_dict[\"height\"] = self.height\n",
    "        json_dict[\"nodes\"] = self.nodes\n",
    "        return json_dict\n"
   ]
  },
  {
   "cell_type": "code",
   "execution_count": 17,
   "metadata": {},
   "outputs": [],
   "source": [
    "def min_matrix(dist_matrix):\n",
    "    min_locs = dist_matrix.idxmin()\n",
    "    min_row = 0\n",
    "    min_col = 0\n",
    "    min_val = np.inf\n",
    "    for val in min_locs:\n",
    "        if dist_matrix.at[val, min_locs[val]] < min_val:\n",
    "            min_col = val\n",
    "            min_row = min_locs[val]\n",
    "            min_val = dist_matrix.at[val, min_locs[val]]\n",
    "\n",
    "    return min_row, min_col, min_val"
   ]
  },
  {
   "cell_type": "code",
   "execution_count": 18,
   "metadata": {},
   "outputs": [],
   "source": [
    "def generate_starting_clusters(dist_matrix):\n",
    "    clusters = {0:[]}\n",
    "    for column in dist_matrix:\n",
    "        clusters[0].append(column)\n",
    "    return clusters"
   ]
  },
  {
   "cell_type": "code",
   "execution_count": 21,
   "metadata": {},
   "outputs": [],
   "source": [
    "import copy\n",
    "dist_matrix = calcDistMatrix(df, euclideanDist)\n",
    "def hcluster(dist_matrix, threshold = np.inf):\n",
    "    dist_matrix.replace(0, np.nan, inplace=True) #so that 0 isn't always reported as the min val\n",
    "    clusters = generate_starting_clusters(dist_matrix)\n",
    "    \n",
    "    current_height = 0\n",
    "    \n",
    "    while len(clusters[current_height]) > 1:\n",
    "        s, r, min_val = min_matrix(dist_matrix) #s = row, r = column\n",
    "        \n",
    "        clusters[current_height+1] = copy.deepcopy(clusters[current_height])\n",
    "        clusters[current_height+1].remove(s)\n",
    "        clusters[current_height+1].remove(r)\n",
    "        clusters[current_height+1].insert(0,tuple([s,r]))\n",
    "        print(clusters)\n",
    "        new_matrix = pd.DataFrame(np.nan, clusters[current_height+1], clusters[current_height+1]) \n",
    "        dist_matrix.drop(index=s, inplace=True)\n",
    "        dist_matrix.drop(columns=r, inplace=True)  \n",
    "        for i in clusters[current_height+1]:\n",
    "            for j in clusters[current_height+1]:\n",
    "                print(i,j)\n",
    "                if s.isinstance() or type(r) \n",
    "                if j != s and j != r:\n",
    "                    new_matrix.at[i,j] = dist_matrix.at[i,j]\n",
    "           \n",
    "\n",
    "        current_height += 1\n",
    "\n"
   ]
  },
  {
   "cell_type": "code",
   "execution_count": 22,
   "metadata": {},
   "outputs": [
    {
     "name": "stdout",
     "output_type": "stream",
     "text": [
      "{0: [0, 1, 2, 3, 4, 5, 6, 7, 8, 9, 10, 11, 12, 13, 14, 15, 16, 17, 18, 19, 20, 21, 22, 23, 24, 25, 26, 27, 28, 29, 30, 31, 32, 33, 34, 35, 36, 37, 38], 1: [(18, 20), 0, 1, 2, 3, 4, 5, 6, 7, 8, 9, 10, 11, 12, 13, 14, 15, 16, 17, 19, 21, 22, 23, 24, 25, 26, 27, 28, 29, 30, 31, 32, 33, 34, 35, 36, 37, 38]}\n",
      "(18, 20) (18, 20)\n"
     ]
    },
    {
     "ename": "ValueError",
     "evalue": "The truth value of an array with more than one element is ambiguous. Use a.any() or a.all()",
     "output_type": "error",
     "traceback": [
      "\u001b[1;31m---------------------------------------------------------------------------\u001b[0m",
      "\u001b[1;31mValueError\u001b[0m                                Traceback (most recent call last)",
      "\u001b[1;32m<ipython-input-22-71104c160e11>\u001b[0m in \u001b[0;36m<module>\u001b[1;34m\u001b[0m\n\u001b[1;32m----> 1\u001b[1;33m \u001b[0mhcluster\u001b[0m\u001b[1;33m(\u001b[0m\u001b[0mdist_matrix\u001b[0m\u001b[1;33m)\u001b[0m\u001b[1;33m\u001b[0m\u001b[1;33m\u001b[0m\u001b[0m\n\u001b[0m",
      "\u001b[1;32m<ipython-input-21-faa8aa2c620e>\u001b[0m in \u001b[0;36mhcluster\u001b[1;34m(dist_matrix, threshold)\u001b[0m\n\u001b[0;32m     21\u001b[0m             \u001b[1;32mfor\u001b[0m \u001b[0mj\u001b[0m \u001b[1;32min\u001b[0m \u001b[0mclusters\u001b[0m\u001b[1;33m[\u001b[0m\u001b[0mcurrent_height\u001b[0m\u001b[1;33m+\u001b[0m\u001b[1;36m1\u001b[0m\u001b[1;33m]\u001b[0m\u001b[1;33m:\u001b[0m\u001b[1;33m\u001b[0m\u001b[1;33m\u001b[0m\u001b[0m\n\u001b[0;32m     22\u001b[0m                 \u001b[0mprint\u001b[0m\u001b[1;33m(\u001b[0m\u001b[0mi\u001b[0m\u001b[1;33m,\u001b[0m\u001b[0mj\u001b[0m\u001b[1;33m)\u001b[0m\u001b[1;33m\u001b[0m\u001b[1;33m\u001b[0m\u001b[0m\n\u001b[1;32m---> 23\u001b[1;33m                 \u001b[1;32mif\u001b[0m \u001b[0mj\u001b[0m \u001b[1;33m!=\u001b[0m \u001b[0ms\u001b[0m \u001b[1;32mand\u001b[0m \u001b[0mj\u001b[0m \u001b[1;33m!=\u001b[0m \u001b[0mr\u001b[0m\u001b[1;33m:\u001b[0m\u001b[1;33m\u001b[0m\u001b[1;33m\u001b[0m\u001b[0m\n\u001b[0m\u001b[0;32m     24\u001b[0m                     \u001b[0mnew_matrix\u001b[0m\u001b[1;33m.\u001b[0m\u001b[0mat\u001b[0m\u001b[1;33m[\u001b[0m\u001b[0mi\u001b[0m\u001b[1;33m,\u001b[0m\u001b[0mj\u001b[0m\u001b[1;33m]\u001b[0m \u001b[1;33m=\u001b[0m \u001b[0mdist_matrix\u001b[0m\u001b[1;33m.\u001b[0m\u001b[0mat\u001b[0m\u001b[1;33m[\u001b[0m\u001b[0mi\u001b[0m\u001b[1;33m,\u001b[0m\u001b[0mj\u001b[0m\u001b[1;33m]\u001b[0m\u001b[1;33m\u001b[0m\u001b[1;33m\u001b[0m\u001b[0m\n\u001b[0;32m     25\u001b[0m             \u001b[1;32mpass\u001b[0m\u001b[1;33m\u001b[0m\u001b[1;33m\u001b[0m\u001b[0m\n",
      "\u001b[1;31mValueError\u001b[0m: The truth value of an array with more than one element is ambiguous. Use a.any() or a.all()"
     ]
    }
   ],
   "source": [
    "hcluster(dist_matrix)"
   ]
  },
  {
   "cell_type": "code",
   "execution_count": null,
   "metadata": {},
   "outputs": [],
   "source": []
  }
 ],
 "metadata": {
  "kernelspec": {
   "display_name": "Python 3",
   "language": "python",
   "name": "python3"
  },
  "language_info": {
   "codemirror_mode": {
    "name": "ipython",
    "version": 3
   },
   "file_extension": ".py",
   "mimetype": "text/x-python",
   "name": "python",
   "nbconvert_exporter": "python",
   "pygments_lexer": "ipython3",
   "version": "3.8.8"
  }
 },
 "nbformat": 4,
 "nbformat_minor": 4
}
